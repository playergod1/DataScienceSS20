{
 "cells": [
  {
   "cell_type": "markdown",
   "metadata": {},
   "source": [
    "# Block 5 Exercise 1: Classification"
   ]
  },
  {
   "cell_type": "markdown",
   "metadata": {},
   "source": [
    "## MNIST Data\n",
    "In these exercises we are using the MNIST data set on handwritten digits to compare supervised classification algorithms...   "
   ]
  },
  {
   "cell_type": "code",
   "execution_count": 1,
   "metadata": {},
   "outputs": [],
   "source": [
    "#imports \n",
    "import matplotlib.pyplot as plt\n",
    "import numpy as np\n",
    "from sklearn.datasets import fetch_openml\n"
   ]
  },
  {
   "cell_type": "code",
   "execution_count": 2,
   "metadata": {},
   "outputs": [],
   "source": [
    "# Load data from https://www.openml.org/d/554\n",
    "X, y = fetch_openml('mnist_784', version=1, return_X_y=True)\n"
   ]
  },
  {
   "cell_type": "code",
   "execution_count": 5,
   "metadata": {},
   "outputs": [
    {
     "data": {
      "text/plain": [
       "(70000, 784)"
      ]
     },
     "execution_count": 5,
     "metadata": {},
     "output_type": "execute_result"
    }
   ],
   "source": [
    "#the full MNIST data set contains 70k samples of digits 0-9 as 28*28 gray scale images (represented as 784 dim vectors)\n",
    "np.shape(X)"
   ]
  },
  {
   "cell_type": "markdown",
   "metadata": {},
   "source": [
    "### E1.1: Use SkLearn methods to split the MNIST data into random train and test sets. Use 60k samples for training.  \n"
   ]
  },
  {
   "cell_type": "code",
   "execution_count": 30,
   "metadata": {},
   "outputs": [
    {
     "data": {
      "text/plain": [
       "(60000, 784)"
      ]
     },
     "execution_count": 30,
     "metadata": {},
     "output_type": "execute_result"
    }
   ],
   "source": [
    "from sklearn.model_selection import train_test_split\n",
    "\n",
    "X_train, y_train, X_test, y_test = train_test_split(X,y, test_size = 1/7, random_state = 0)\n",
    "X_train.shape"
   ]
  },
  {
   "cell_type": "markdown",
   "metadata": {},
   "source": [
    "### E1.2: Visualize the data.\n",
    "* Plot some data samples as images (use https://matplotlib.org/3.1.0/api/_as_gen/matplotlib.pyplot.imshow.html)"
   ]
  },
  {
   "cell_type": "code",
   "execution_count": 28,
   "metadata": {},
   "outputs": [
    {
     "data": {
      "text/plain": [
       "<matplotlib.image.AxesImage at 0x1f332dc98c8>"
      ]
     },
     "execution_count": 28,
     "metadata": {},
     "output_type": "execute_result"
    },
    {
     "data": {
      "image/png": "[encoded data removed]",
      "text/plain": [
       "<Figure size 432x288 with 1 Axes>"
      ]
     },
     "metadata": {
      "needs_background": "light"
     },
     "output_type": "display_data"
    }
   ],
   "source": [
    "plt.imshow(np.reshape(X_train[0,:],(28,28)), cmap='gray')"
   ]
  },
  {
   "cell_type": "markdown",
   "metadata": {},
   "source": [
    "### E1.3: Train models on the train data.\n",
    "Train the following models with default parameters on the train data.\n",
    "* [Naive Bayes](https://scikit-learn.org/stable/modules/generated/sklearn.naive_bayes.GaussianNB.html#sklearn.naive_bayes.GaussianNB) (assuming a Gaussian distribution of the data)\n",
    "* [Simple linear model](https://scikit-learn.org/stable/modules/generated/sklearn.linear_model.SGDClassifier.html#sklearn.linear_model.SGDClassifier)\n",
    "   * use ``loss='log'`` to reproduce our logistic loss function \n",
    "* [Random Forest](https://scikit-learn.org/stable/modules/generated/sklearn.ensemble.RandomForestClassifier.html#sklearn.ensemble.RandomForestClassifier)\n",
    "\n",
    "Compare the training accuracy (https://scikit-learn.org/stable/modules/generated/sklearn.metrics.accuracy_score.html#sklearn.metrics.accuracy_score) and [confusion matrix](https://scikit-learn.org/stable/modules/generated/sklearn.metrics.confusion_matrix.html#sklearn.metrics.confusion_matrix) for all three models."
   ]
  },
  {
   "cell_type": "code",
   "execution_count": 39,
   "metadata": {},
   "outputs": [
    {
     "data": {
      "text/plain": [
       "0.5"
      ]
     },
     "execution_count": 39,
     "metadata": {},
     "output_type": "execute_result"
    }
   ],
   "source": []
  },
  {
   "cell_type": "code",
   "execution_count": 55,
   "metadata": {},
   "outputs": [
    {
     "name": "stdout",
     "output_type": "stream",
     "text": [
      "Acc gauss:  0.5568666666666666\n",
      "CM gauss:  [[5155   11   31   13   11   11  251    5  322   97]\n",
      " [   3 6366   15   23    3   14   82    2  166   62]\n",
      " [ 470  163 1813  297   29   26 1582   15 1476   79]\n",
      " [ 312  312   54 1878   12   11  397   54 2546  552]\n",
      " [ 129   45   44   25  909   35  622   33 1289 2731]\n",
      " [ 524  151   32   96   31  253  341   12 3493  517]\n",
      " [  40  103   27    2    5   19 5564    0  120    7]\n",
      " [  21   53    7   44   37    5   21 1969  230 3842]\n",
      " [  87  775   21   36   22   33  116    9 3857  906]\n",
      " [  31   45   16    9   33    2    5   81  119 5648]]\n"
     ]
    }
   ],
   "source": [
    "# naive bayes\n",
    "from sklearn.naive_bayes import GaussianNB\n",
    "from sklearn.metrics import accuracy_score\n",
    "from sklearn.metrics import confusion_matrix\n",
    "\n",
    "clf_gaus = GaussianNB()\n",
    "clf_gaus.fit(X_train, X_test)\n",
    "nb_pred = clf_gaus.predict(X_train)\n",
    "print(\"Acc gauss: \",accuracy_score(X_test,nb_pred))\n",
    "print(\"CM gauss: \", confusion_matrix(X_test,nb_pred))"
   ]
  },
  {
   "cell_type": "code",
   "execution_count": 56,
   "metadata": {},
   "outputs": [
    {
     "name": "stderr",
     "output_type": "stream",
     "text": [
      "C:\\Anaconda\\lib\\site-packages\\sklearn\\linear_model\\_stochastic_gradient.py:557: ConvergenceWarning: Maximum number of iteration reached before convergence. Consider increasing max_iter to improve the fit.\n",
      "  ConvergenceWarning)\n"
     ]
    },
    {
     "name": "stdout",
     "output_type": "stream",
     "text": [
      "Acc linear:  0.8904333333333333\n",
      "CM linear:  [[5518    1   61   68   17  110   41    9   82    0]\n",
      " [   1 6485   54   48   10   28    4    7   90    9]\n",
      " [  11   19 5302  251   81   27   59   36  154   10]\n",
      " [   1    7  140 5726    9  110   14   18   63   40]\n",
      " [   4   15   40   74 5385   31   43   18   71  181]\n",
      " [  15   16   67  345   66 4592   86   10  221   32]\n",
      " [  19   13  134   12   21   76 5562    8   41    1]\n",
      " [  10   12  121  199   65   43    7 5598   17  157]\n",
      " [  25   75  153  461   43  299   35   48 4662   61]\n",
      " [  24   18   40  252  301  128    0  491  139 4596]]\n"
     ]
    }
   ],
   "source": [
    "# simple linear model\n",
    "from sklearn.linear_model import SGDClassifier\n",
    "\n",
    "clf_linear = SGDClassifier(max_iter=50 ,loss='log')\n",
    "clf_linear.fit(X_train,X_test)\n",
    "linear_pred = clf_linear.predict(X_train)\n",
    "print(\"Acc linear: \",accuracy_score(X_test,linear_pred))\n",
    "print(\"CM linear: \", confusion_matrix(X_test,linear_pred))"
   ]
  },
  {
   "cell_type": "code",
   "execution_count": 58,
   "metadata": {},
   "outputs": [
    {
     "name": "stdout",
     "output_type": "stream",
     "text": [
      "Acc random:  1.0\n",
      "CM random:  [[5907    0    0    0    0    0    0    0    0    0]\n",
      " [   0 6736    0    0    0    0    0    0    0    0]\n",
      " [   0    0 5950    0    0    0    0    0    0    0]\n",
      " [   0    0    0 6128    0    0    0    0    0    0]\n",
      " [   0    0    0    0 5862    0    0    0    0    0]\n",
      " [   0    0    0    0    0 5450    0    0    0    0]\n",
      " [   0    0    0    0    0    0 5887    0    0    0]\n",
      " [   0    0    0    0    0    0    0 6229    0    0]\n",
      " [   0    0    0    0    0    0    0    0 5862    0]\n",
      " [   0    0    0    0    0    0    0    0    0 5989]]\n"
     ]
    }
   ],
   "source": [
    "# random forest\n",
    "from sklearn.ensemble import RandomForestClassifier\n",
    "\n",
    "clf_random = RandomForestClassifier()\n",
    "clf_random.fit(X_train, X_test)\n",
    "random_pred = clf_random.predict(X_train)\n",
    "print(\"Acc random: \",accuracy_score(X_test,random_pred))\n",
    "print(\"CM random: \", confusion_matrix(X_test,random_pred))"
   ]
  },
  {
   "cell_type": "markdown",
   "metadata": {},
   "source": [
    "### E1.4: Evaluate and compare the models on the test set.\n",
    "* compute the test [accuracy](https://scikit-learn.org/stable/modules/generated/sklearn.metrics.accuracy_score.html#sklearn.metrics.accuracy_score) \n",
    "* compute the [F-Measure](https://scikit-learn.org/stable/modules/generated/sklearn.metrics.f1_score.html#sklearn.metrics.f1_score)\n",
    "* plot a [ROC curves](https://scikit-learn.org/stable/modules/generated/sklearn.metrics.roc_curve.html#sklearn.metrics.roc_curve) for the class \"5\" for all three models.\n",
    "                          "
   ]
  },
  {
   "cell_type": "code",
   "execution_count": 63,
   "metadata": {},
   "outputs": [
    {
     "name": "stdout",
     "output_type": "stream",
     "text": [
      "Accuracy on Test data: \n",
      "NB: 0.56\n",
      "Linear: 0.87\n",
      "Random: 0.97\n"
     ]
    }
   ],
   "source": [
    "# compute the test accuracy\n",
    "nb_pred = clf_gaus.predict(y_train)\n",
    "linear_pred = clf_linear.predict(y_train)\n",
    "random_pred = clf_random.predict(y_train)\n",
    "\n",
    "print(\"Accuracy on Test data: \\nNB: %.02f\\nLinear: %.02f\\nRandom: %.02f\" % (accuracy_score(y_test,nb_pred), accuracy_score(y_test,linear_pred), accuracy_score(y_test,random_pred)))"
   ]
  },
  {
   "cell_type": "code",
   "execution_count": 66,
   "metadata": {},
   "outputs": [
    {
     "name": "stdout",
     "output_type": "stream",
     "text": [
      "F1-measure on Test data: \n",
      "NB: 0.56\n",
      "Linear: 0.87\n",
      "Random: 0.97\n"
     ]
    }
   ],
   "source": [
    "# f-measure\n",
    "from sklearn.metrics import f1_score\n",
    "nb_f1 = f1_score(y_test, nb_pred, average='micro')\n",
    "linear_f1 = f1_score(y_test, linear_pred, average='micro')\n",
    "random_f1 = f1_score(y_test, random_pred, average='micro')\n",
    "\n",
    "print(\"F1-measure on Test data: \\nNB: %.02f\\nLinear: %.02f\\nRandom: %.02f\" % (nb_f1, linear_f1, random_f1))"
   ]
  },
  {
   "cell_type": "code",
   "execution_count": 109,
   "metadata": {},
   "outputs": [],
   "source": [
    "# ROC curves\n",
    "from sklearn import metrics\n",
    "\n",
    "y_five = y_test=='5'\n",
    "bayes_five = clf_gaus.predict(y_train).astype(int)==5\n",
    "linear_five = clf_linear.predict(y_train).astype(int)==5\n",
    "rf_five = clf_random.predict(y_train).astype(int)==5\n",
    "\n",
    "bayes_fpr, bayes_tpr, _ = metrics.roc_curve(y_five, bayes_five)\n",
    "linear_fpr, linear_tpr, _ = metrics.roc_curve(y_five, linear_five)\n",
    "rf_fpr, rf_tpr, _ = metrics.roc_curve(y_five, rf_five)"
   ]
  },
  {
   "cell_type": "code",
   "execution_count": 110,
   "metadata": {},
   "outputs": [
    {
     "data": {
      "image/png": "[encoded data removed]",
      "text/plain": [
       "<Figure size 432x288 with 1 Axes>"
      ]
     },
     "metadata": {
      "needs_background": "light"
     },
     "output_type": "display_data"
    }
   ],
   "source": [
    "lw = 2\n",
    "plt.plot(bayes_fpr, bayes_tpr,label='bayes')\n",
    "plt.plot(linear_fpr, linear_tpr, label='linear')\n",
    "plt.plot(rf_fpr, rf_tpr, label='random')\n",
    "plt.plot([0, 1], [0, 1], linestyle=':')\n",
    "plt.legend(loc=\"lower right\")\n",
    "plt.xlim([0.0, 1.0])\n",
    "plt.ylim([0.0, 1.05])\n",
    "plt.xlabel('FP')\n",
    "plt.ylabel('TP')\n",
    "plt.show()\n"
   ]
  },
  {
   "cell_type": "code",
   "execution_count": null,
   "metadata": {},
   "outputs": [],
   "source": []
  }
 ],
 "metadata": {
  "kernelspec": {
   "display_name": "Python 3",
   "language": "python",
   "name": "python3"
  },
  "language_info": {
   "codemirror_mode": {
    "name": "ipython",
    "version": 3
   },
   "file_extension": ".py",
   "mimetype": "text/x-python",
   "name": "python",
   "nbconvert_exporter": "python",
   "pygments_lexer": "ipython3",
   "version": "3.7.6"
  }
 },
 "nbformat": 4,
 "nbformat_minor": 4
}
