{
  "nbformat": 4,
  "nbformat_minor": 0,
  "metadata": {
    "kernelspec": {
      "display_name": "Python 3",
      "language": "python",
      "name": "python3"
    },
    "language_info": {
      "codemirror_mode": {
        "name": "ipython",
        "version": 3
      },
      "file_extension": ".py",
      "mimetype": "text/x-python",
      "name": "python",
      "nbconvert_exporter": "python",
      "pygments_lexer": "ipython3",
      "version": "3.7.6"
    },
    "colab": {
      "name": "3_f_GroupBy_III.ipynb",
      "provenance": []
    }
  },
  "cells": [
    {
      "cell_type": "markdown",
      "metadata": {
        "id": "MQdO55BjaLBV",
        "colab_type": "text"
      },
      "source": [
        "# GroupBy III"
      ]
    },
    {
      "cell_type": "code",
      "metadata": {
        "id": "77K63DOdaLBX",
        "colab_type": "code",
        "colab": {}
      },
      "source": [
        "import pandas as pd"
      ],
      "execution_count": 0,
      "outputs": []
    },
    {
      "cell_type": "markdown",
      "metadata": {
        "id": "ZS1db1QtaLBa",
        "colab_type": "text"
      },
      "source": [
        "### Use Case: statistics on test Scores. "
      ]
    },
    {
      "cell_type": "code",
      "metadata": {
        "id": "9toMDMhFaLBb",
        "colab_type": "code",
        "colab": {}
      },
      "source": [
        "raw_data = {'regiment': ['Nighthawks', 'Nighthawks', 'Nighthawks', 'Nighthawks', 'Dragoons', 'Dragoons', 'Dragoons', 'Dragoons', 'Scouts', 'Scouts', 'Scouts', 'Scouts'], \n",
        "        'company': ['1st', '1st', '2nd', '2nd', '1st', '1st', '2nd', '2nd','1st', '1st', '2nd', '2nd'], \n",
        "        'name': ['Miller', 'Jacobson', 'Ali', 'Milner', 'Cooze', 'Jacon', 'Ryaner', 'Sone', 'Sloan', 'Piger', 'Riani', 'Ali'], \n",
        "        'preTestScore': [4, 24, 31, 2, 3, 4, 24, 31, 2, 3, 2, 3],\n",
        "        'postTestScore': [25, 94, 57, 62, 70, 25, 94, 57, 62, 70, 62, 70]}"
      ],
      "execution_count": 0,
      "outputs": []
    },
    {
      "cell_type": "code",
      "metadata": {
        "id": "U2B9npt0aLBe",
        "colab_type": "code",
        "colab": {
          "base_uri": "https://localhost:8080/",
          "height": 421
        },
        "outputId": "ba40da48-1232-4b54-f9e9-f18eda2336fc"
      },
      "source": [
        "regiment = pd.DataFrame(raw_data, columns = raw_data.keys())\n",
        "regiment"
      ],
      "execution_count": 3,
      "outputs": [
        {
          "output_type": "execute_result",
          "data": {
            "text/html": [
              "<div>\n",
              "<style scoped>\n",
              "    .dataframe tbody tr th:only-of-type {\n",
              "        vertical-align: middle;\n",
              "    }\n",
              "\n",
              "    .dataframe tbody tr th {\n",
              "        vertical-align: top;\n",
              "    }\n",
              "\n",
              "    .dataframe thead th {\n",
              "        text-align: right;\n",
              "    }\n",
              "</style>\n",
              "<table border=\"1\" class=\"dataframe\">\n",
              "  <thead>\n",
              "    <tr style=\"text-align: right;\">\n",
              "      <th></th>\n",
              "      <th>regiment</th>\n",
              "      <th>company</th>\n",
              "      <th>name</th>\n",
              "      <th>preTestScore</th>\n",
              "      <th>postTestScore</th>\n",
              "    </tr>\n",
              "  </thead>\n",
              "  <tbody>\n",
              "    <tr>\n",
              "      <th>0</th>\n",
              "      <td>Nighthawks</td>\n",
              "      <td>1st</td>\n",
              "      <td>Miller</td>\n",
              "      <td>4</td>\n",
              "      <td>25</td>\n",
              "    </tr>\n",
              "    <tr>\n",
              "      <th>1</th>\n",
              "      <td>Nighthawks</td>\n",
              "      <td>1st</td>\n",
              "      <td>Jacobson</td>\n",
              "      <td>24</td>\n",
              "      <td>94</td>\n",
              "    </tr>\n",
              "    <tr>\n",
              "      <th>2</th>\n",
              "      <td>Nighthawks</td>\n",
              "      <td>2nd</td>\n",
              "      <td>Ali</td>\n",
              "      <td>31</td>\n",
              "      <td>57</td>\n",
              "    </tr>\n",
              "    <tr>\n",
              "      <th>3</th>\n",
              "      <td>Nighthawks</td>\n",
              "      <td>2nd</td>\n",
              "      <td>Milner</td>\n",
              "      <td>2</td>\n",
              "      <td>62</td>\n",
              "    </tr>\n",
              "    <tr>\n",
              "      <th>4</th>\n",
              "      <td>Dragoons</td>\n",
              "      <td>1st</td>\n",
              "      <td>Cooze</td>\n",
              "      <td>3</td>\n",
              "      <td>70</td>\n",
              "    </tr>\n",
              "    <tr>\n",
              "      <th>5</th>\n",
              "      <td>Dragoons</td>\n",
              "      <td>1st</td>\n",
              "      <td>Jacon</td>\n",
              "      <td>4</td>\n",
              "      <td>25</td>\n",
              "    </tr>\n",
              "    <tr>\n",
              "      <th>6</th>\n",
              "      <td>Dragoons</td>\n",
              "      <td>2nd</td>\n",
              "      <td>Ryaner</td>\n",
              "      <td>24</td>\n",
              "      <td>94</td>\n",
              "    </tr>\n",
              "    <tr>\n",
              "      <th>7</th>\n",
              "      <td>Dragoons</td>\n",
              "      <td>2nd</td>\n",
              "      <td>Sone</td>\n",
              "      <td>31</td>\n",
              "      <td>57</td>\n",
              "    </tr>\n",
              "    <tr>\n",
              "      <th>8</th>\n",
              "      <td>Scouts</td>\n",
              "      <td>1st</td>\n",
              "      <td>Sloan</td>\n",
              "      <td>2</td>\n",
              "      <td>62</td>\n",
              "    </tr>\n",
              "    <tr>\n",
              "      <th>9</th>\n",
              "      <td>Scouts</td>\n",
              "      <td>1st</td>\n",
              "      <td>Piger</td>\n",
              "      <td>3</td>\n",
              "      <td>70</td>\n",
              "    </tr>\n",
              "    <tr>\n",
              "      <th>10</th>\n",
              "      <td>Scouts</td>\n",
              "      <td>2nd</td>\n",
              "      <td>Riani</td>\n",
              "      <td>2</td>\n",
              "      <td>62</td>\n",
              "    </tr>\n",
              "    <tr>\n",
              "      <th>11</th>\n",
              "      <td>Scouts</td>\n",
              "      <td>2nd</td>\n",
              "      <td>Ali</td>\n",
              "      <td>3</td>\n",
              "      <td>70</td>\n",
              "    </tr>\n",
              "  </tbody>\n",
              "</table>\n",
              "</div>"
            ],
            "text/plain": [
              "      regiment company      name  preTestScore  postTestScore\n",
              "0   Nighthawks     1st    Miller             4             25\n",
              "1   Nighthawks     1st  Jacobson            24             94\n",
              "2   Nighthawks     2nd       Ali            31             57\n",
              "3   Nighthawks     2nd    Milner             2             62\n",
              "4     Dragoons     1st     Cooze             3             70\n",
              "5     Dragoons     1st     Jacon             4             25\n",
              "6     Dragoons     2nd    Ryaner            24             94\n",
              "7     Dragoons     2nd      Sone            31             57\n",
              "8       Scouts     1st     Sloan             2             62\n",
              "9       Scouts     1st     Piger             3             70\n",
              "10      Scouts     2nd     Riani             2             62\n",
              "11      Scouts     2nd       Ali             3             70"
            ]
          },
          "metadata": {
            "tags": []
          },
          "execution_count": 3
        }
      ]
    },
    {
      "cell_type": "markdown",
      "metadata": {
        "id": "HYkmBTscaLBi",
        "colab_type": "text"
      },
      "source": [
        "### What is the mean preTestScore from the regiment Nighthawks?  "
      ]
    },
    {
      "cell_type": "code",
      "metadata": {
        "id": "uUEdA44OaLBj",
        "colab_type": "code",
        "colab": {
          "base_uri": "https://localhost:8080/",
          "height": 34
        },
        "outputId": "5c48d360-ba69-4dde-dfe7-13d57954357f"
      },
      "source": [
        "regiment[regiment.regiment==\"Nighthawks\"].preTestScore.mean()\n"
      ],
      "execution_count": 13,
      "outputs": [
        {
          "output_type": "execute_result",
          "data": {
            "text/plain": [
              "15.25"
            ]
          },
          "metadata": {
            "tags": []
          },
          "execution_count": 13
        }
      ]
    },
    {
      "cell_type": "markdown",
      "metadata": {
        "id": "huc9c_8maLBl",
        "colab_type": "text"
      },
      "source": [
        "### Compute simple statistics (mean, std, min, max, quantiles) by company"
      ]
    },
    {
      "cell_type": "code",
      "metadata": {
        "id": "FPAeQd17aLBl",
        "colab_type": "code",
        "colab": {
          "base_uri": "https://localhost:8080/",
          "height": 173
        },
        "outputId": "5f6aac8d-d43a-4402-d89c-cd8573ceb1d6"
      },
      "source": [
        "regiment.groupby(\"company\").agg([\"mean\",\"std\",\"min\",\"max\",\"quantile\"])"
      ],
      "execution_count": 15,
      "outputs": [
        {
          "output_type": "execute_result",
          "data": {
            "text/html": [
              "<div>\n",
              "<style scoped>\n",
              "    .dataframe tbody tr th:only-of-type {\n",
              "        vertical-align: middle;\n",
              "    }\n",
              "\n",
              "    .dataframe tbody tr th {\n",
              "        vertical-align: top;\n",
              "    }\n",
              "\n",
              "    .dataframe thead tr th {\n",
              "        text-align: left;\n",
              "    }\n",
              "\n",
              "    .dataframe thead tr:last-of-type th {\n",
              "        text-align: right;\n",
              "    }\n",
              "</style>\n",
              "<table border=\"1\" class=\"dataframe\">\n",
              "  <thead>\n",
              "    <tr>\n",
              "      <th></th>\n",
              "      <th colspan=\"5\" halign=\"left\">preTestScore</th>\n",
              "      <th colspan=\"5\" halign=\"left\">postTestScore</th>\n",
              "    </tr>\n",
              "    <tr>\n",
              "      <th></th>\n",
              "      <th>mean</th>\n",
              "      <th>std</th>\n",
              "      <th>min</th>\n",
              "      <th>max</th>\n",
              "      <th>quantile</th>\n",
              "      <th>mean</th>\n",
              "      <th>std</th>\n",
              "      <th>min</th>\n",
              "      <th>max</th>\n",
              "      <th>quantile</th>\n",
              "    </tr>\n",
              "    <tr>\n",
              "      <th>company</th>\n",
              "      <th></th>\n",
              "      <th></th>\n",
              "      <th></th>\n",
              "      <th></th>\n",
              "      <th></th>\n",
              "      <th></th>\n",
              "      <th></th>\n",
              "      <th></th>\n",
              "      <th></th>\n",
              "      <th></th>\n",
              "    </tr>\n",
              "  </thead>\n",
              "  <tbody>\n",
              "    <tr>\n",
              "      <th>1st</th>\n",
              "      <td>6.666667</td>\n",
              "      <td>8.524475</td>\n",
              "      <td>2</td>\n",
              "      <td>24</td>\n",
              "      <td>3.5</td>\n",
              "      <td>57.666667</td>\n",
              "      <td>27.485754</td>\n",
              "      <td>25</td>\n",
              "      <td>94</td>\n",
              "      <td>66.0</td>\n",
              "    </tr>\n",
              "    <tr>\n",
              "      <th>2nd</th>\n",
              "      <td>15.500000</td>\n",
              "      <td>14.652645</td>\n",
              "      <td>2</td>\n",
              "      <td>31</td>\n",
              "      <td>13.5</td>\n",
              "      <td>67.000000</td>\n",
              "      <td>14.057027</td>\n",
              "      <td>57</td>\n",
              "      <td>94</td>\n",
              "      <td>62.0</td>\n",
              "    </tr>\n",
              "  </tbody>\n",
              "</table>\n",
              "</div>"
            ],
            "text/plain": [
              "        preTestScore                     ... postTestScore                 \n",
              "                mean        std min max  ...           std min max quantile\n",
              "company                                  ...                               \n",
              "1st         6.666667   8.524475   2  24  ...     27.485754  25  94     66.0\n",
              "2nd        15.500000  14.652645   2  31  ...     14.057027  57  94     62.0\n",
              "\n",
              "[2 rows x 10 columns]"
            ]
          },
          "metadata": {
            "tags": []
          },
          "execution_count": 15
        }
      ]
    },
    {
      "cell_type": "markdown",
      "metadata": {
        "id": "WAL_3f1waLBn",
        "colab_type": "text"
      },
      "source": [
        "### What is the mean each company's preTestScore?"
      ]
    },
    {
      "cell_type": "code",
      "metadata": {
        "id": "kkLiD27MaLBn",
        "colab_type": "code",
        "colab": {
          "base_uri": "https://localhost:8080/",
          "height": 85
        },
        "outputId": "20f84f34-fe6b-4c25-ec8e-44f4d4f7d70b"
      },
      "source": [
        "regiment.groupby(\"company\").preTestScore.mean()\n"
      ],
      "execution_count": 19,
      "outputs": [
        {
          "output_type": "execute_result",
          "data": {
            "text/plain": [
              "company\n",
              "1st     6.666667\n",
              "2nd    15.500000\n",
              "Name: preTestScore, dtype: float64"
            ]
          },
          "metadata": {
            "tags": []
          },
          "execution_count": 19
        }
      ]
    },
    {
      "cell_type": "markdown",
      "metadata": {
        "id": "pIYOkdpQaLBq",
        "colab_type": "text"
      },
      "source": [
        "### Present the mean preTestScores grouped by regiment and company"
      ]
    },
    {
      "cell_type": "code",
      "metadata": {
        "id": "0ESTa4VWaLBq",
        "colab_type": "code",
        "colab": {
          "base_uri": "https://localhost:8080/",
          "height": 153
        },
        "outputId": "f01de4d7-f4e5-41e0-97aa-4fc121ed7470"
      },
      "source": [
        "regiment.groupby([\"regiment\", \"company\"]).preTestScore.mean()"
      ],
      "execution_count": 25,
      "outputs": [
        {
          "output_type": "execute_result",
          "data": {
            "text/plain": [
              "regiment    company\n",
              "Dragoons    1st         3.5\n",
              "            2nd        27.5\n",
              "Nighthawks  1st        14.0\n",
              "            2nd        16.5\n",
              "Scouts      1st         2.5\n",
              "            2nd         2.5\n",
              "Name: preTestScore, dtype: float64"
            ]
          },
          "metadata": {
            "tags": []
          },
          "execution_count": 25
        }
      ]
    },
    {
      "cell_type": "markdown",
      "metadata": {
        "id": "xCmqBTaaaLBs",
        "colab_type": "text"
      },
      "source": [
        "### Present the mean preTestScores grouped by regiment and company without heirarchical indexing"
      ]
    },
    {
      "cell_type": "code",
      "metadata": {
        "id": "sjfLs7cSaLBt",
        "colab_type": "code",
        "colab": {
          "base_uri": "https://localhost:8080/",
          "height": 153
        },
        "outputId": "d322101b-68ee-452a-db79-becd603bec55"
      },
      "source": [
        "a = regiment.groupby([\"regiment\", \"company\"]).preTestScore.mean()\n",
        "a.reindex([(\"Nighthawks\",\"1st\"), (\"Nighthawks\",\"2nd\"), (\"Scouts\",\"2nd\"), (\"Scouts\",\"1st\"), (\"Dragoons\",\"1st\"), (\"Dragoons\",\"2nd\")])"
      ],
      "execution_count": 41,
      "outputs": [
        {
          "output_type": "execute_result",
          "data": {
            "text/plain": [
              "regiment    company\n",
              "Nighthawks  1st        14.0\n",
              "            2nd        16.5\n",
              "Scouts      2nd         2.5\n",
              "            1st         2.5\n",
              "Dragoons    1st         3.5\n",
              "            2nd        27.5\n",
              "Name: preTestScore, dtype: float64"
            ]
          },
          "metadata": {
            "tags": []
          },
          "execution_count": 41
        }
      ]
    },
    {
      "cell_type": "markdown",
      "metadata": {
        "id": "SWuw7l2saLBu",
        "colab_type": "text"
      },
      "source": [
        "### Group the entire dataframe by regiment and company"
      ]
    },
    {
      "cell_type": "code",
      "metadata": {
        "id": "ka_9kJZMaLBv",
        "colab_type": "code",
        "colab": {
          "base_uri": "https://localhost:8080/",
          "height": 34
        },
        "outputId": "e38ab619-bf8a-4624-9eb3-1d0f107709c3"
      },
      "source": [
        "regiment.groupby([\"regiment\",\"company\"])"
      ],
      "execution_count": 43,
      "outputs": [
        {
          "output_type": "execute_result",
          "data": {
            "text/plain": [
              "<pandas.core.groupby.generic.DataFrameGroupBy object at 0x7fe2b569f828>"
            ]
          },
          "metadata": {
            "tags": []
          },
          "execution_count": 43
        }
      ]
    },
    {
      "cell_type": "markdown",
      "metadata": {
        "id": "FmdN6_jaaLBw",
        "colab_type": "text"
      },
      "source": [
        "###  What is the number of observations in each regiment and company"
      ]
    },
    {
      "cell_type": "code",
      "metadata": {
        "id": "EV0xU8YnaLBx",
        "colab_type": "code",
        "colab": {
          "base_uri": "https://localhost:8080/",
          "height": 153
        },
        "outputId": "c536aebd-0b88-4e13-96c1-28c83270baa9"
      },
      "source": [
        "regiment.groupby([\"regiment\",\"company\"])[\"name\"].count()"
      ],
      "execution_count": 46,
      "outputs": [
        {
          "output_type": "execute_result",
          "data": {
            "text/plain": [
              "regiment    company\n",
              "Dragoons    1st        2\n",
              "            2nd        2\n",
              "Nighthawks  1st        2\n",
              "            2nd        2\n",
              "Scouts      1st        2\n",
              "            2nd        2\n",
              "Name: name, dtype: int64"
            ]
          },
          "metadata": {
            "tags": []
          },
          "execution_count": 46
        }
      ]
    },
    {
      "cell_type": "markdown",
      "metadata": {
        "id": "Dg0E_o-MaLBz",
        "colab_type": "text"
      },
      "source": [
        "### Iterate over a group and print the name and the whole data from the regiment"
      ]
    },
    {
      "cell_type": "code",
      "metadata": {
        "id": "M3n_9WyLaLBz",
        "colab_type": "code",
        "colab": {
          "base_uri": "https://localhost:8080/",
          "height": 323
        },
        "outputId": "5c9f35cc-03ec-4afe-96ef-e4781c6b7378"
      },
      "source": [
        "grouped = regiment.groupby(\"regiment\")\n",
        "for name, group in grouped:\n",
        "  print(name)\n",
        "  print(group)\n"
      ],
      "execution_count": 48,
      "outputs": [
        {
          "output_type": "stream",
          "text": [
            "Dragoons\n",
            "   regiment company    name  preTestScore  postTestScore\n",
            "4  Dragoons     1st   Cooze             3             70\n",
            "5  Dragoons     1st   Jacon             4             25\n",
            "6  Dragoons     2nd  Ryaner            24             94\n",
            "7  Dragoons     2nd    Sone            31             57\n",
            "Nighthawks\n",
            "     regiment company      name  preTestScore  postTestScore\n",
            "0  Nighthawks     1st    Miller             4             25\n",
            "1  Nighthawks     1st  Jacobson            24             94\n",
            "2  Nighthawks     2nd       Ali            31             57\n",
            "3  Nighthawks     2nd    Milner             2             62\n",
            "Scouts\n",
            "   regiment company   name  preTestScore  postTestScore\n",
            "8    Scouts     1st  Sloan             2             62\n",
            "9    Scouts     1st  Piger             3             70\n",
            "10   Scouts     2nd  Riani             2             62\n",
            "11   Scouts     2nd    Ali             3             70\n"
          ],
          "name": "stdout"
        }
      ]
    }
  ]
}