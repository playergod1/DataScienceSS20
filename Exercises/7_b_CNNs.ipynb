{
  "nbformat": 4,
  "nbformat_minor": 0,
  "metadata": {
    "colab": {
      "name": "Exercise_2 .ipynb",
      "provenance": [],
      "authorship_tag": "ABX9TyNf3zsQ09eG2yXL744V24PB"
    },
    "kernelspec": {
      "name": "python3",
      "display_name": "Python 3"
    }
  },
  "cells": [
    {
      "cell_type": "markdown",
      "metadata": {
        "id": "9qYJcxpwEyxC",
        "colab_type": "text"
      },
      "source": [
        ""
      ]
    },
    {
      "cell_type": "markdown",
      "metadata": {
        "id": "NgYV9F8IE2L_",
        "colab_type": "text"
      },
      "source": [
        "# Exercise 2 - Image Classification with CNNs\n",
        "![CIFAR10](https://miro.medium.com/max/964/1*syyml8q8s1Yt-iEea5m1Ag.png)\n",
        "\n",
        "[CIFAR 10](https://www.cs.toronto.edu/~kriz/cifar.html) is a small toy data set for image classifaction. \n",
        "\n",
        "* It has 60k images from ten diffenrent classes (like car, airplane, horse,..)\n",
        "* The RGB images are of size 32x32 pixels  "
      ]
    },
    {
      "cell_type": "code",
      "metadata": {
        "id": "GiDFXXcUEy-G",
        "colab_type": "code",
        "colab": {
          "base_uri": "https://localhost:8080/",
          "height": 71
        },
        "outputId": "e3cbff08-e3fe-45ad-fff1-6d5c31a5261c"
      },
      "source": [
        "#import needed libs\n",
        "from __future__ import print_function\n",
        "import keras\n",
        "from keras.datasets import cifar10\n",
        "from keras.preprocessing.image import ImageDataGenerator\n",
        "from keras.models import Sequential\n",
        "from keras.layers import Dense, Dropout, Activation, Flatten\n",
        "from keras.layers import Conv2D, MaxPooling2D\n",
        "import os\n",
        "\n",
        "#some vars to controll the training -> use them in your code\n",
        "batch_size = 32\n",
        "num_classes = 10 #fixed!\n",
        "epochs = 10\n",
        "\n",
        "# Get the data, split between train and test sets:\n",
        "(x_train, y_train), (x_test, y_test) = cifar10.load_data()\n",
        "print('x_train shape:', x_train.shape)\n",
        "print(x_train.shape[0], 'train samples')\n",
        "print(x_test.shape[0], 'test samples')\n",
        "\n",
        "# Convert class vectors to binary class matrices.\n",
        "y_train = keras.utils.to_categorical(y_train, num_classes)\n",
        "y_test = keras.utils.to_categorical(y_test, num_classes)"
      ],
      "execution_count": 2,
      "outputs": [
        {
          "output_type": "stream",
          "text": [
            "x_train shape: (50000, 32, 32, 3)\n",
            "50000 train samples\n",
            "10000 test samples\n"
          ],
          "name": "stdout"
        }
      ]
    },
    {
      "cell_type": "markdown",
      "metadata": {
        "id": "vmocaCkIGOIR",
        "colab_type": "text"
      },
      "source": [
        "## Task:\n",
        "* build and train the ***AlexNet*** CNN architecture from the lecture\n",
        "* use 'relu' functions for the non-linear activation\n",
        "* optimize the learning hyper-paramters to get the best  test accuracy"
      ]
    },
    {
      "cell_type": "code",
      "metadata": {
        "id": "9p5AD8mJEzmL",
        "colab_type": "code",
        "colab": {}
      },
      "source": [
        ""
      ],
      "execution_count": 0,
      "outputs": []
    }
  ]
}