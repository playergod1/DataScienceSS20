{
 "cells": [
  {
   "cell_type": "markdown",
   "metadata": {},
   "source": [
    "# Exercise I: Your own Python module "
   ]
  },
  {
   "cell_type": "code",
   "execution_count": 2,
   "metadata": {},
   "outputs": [
    {
     "name": "stdout",
     "output_type": "stream",
     "text": [
      "running in Colab: False\n"
     ]
    }
   ],
   "source": [
    "#check if notebook runs in colab\n",
    "import sys\n",
    "IN_COLAB = 'google.colab' in sys.modules\n",
    "print('running in Colab:',IN_COLAB)\n",
    "path='..'\n",
    "if IN_COLAB:\n",
    "  #in colab, we need to clone the data from the repo\n",
    "  !git clone https://github.com/keuperj/DataScienceSS20.git\n",
    "  path='DataScienceSS20'\n",
    "  import sys\n",
    "  sys.path.append(path+'/Exercises/')"
   ]
  },
  {
   "cell_type": "markdown",
   "metadata": {},
   "source": [
    "Write your own python module (choose a name) with the following properties:\n",
    "\n",
    "1. start new python file for the module\n",
    "2. define a class ***ListKeeper*** with the following properties and API:\n",
    "   1. ***Listkeeper*** strores named lists (hint: use dictionaries) \n",
    "   2. it initializes with a list named *example*: [1,2,3,4,5]\n",
    "   3. ``show()`` returns all list names\n",
    "   4. ``add(name, list)`` adds a new list\n",
    "   5. ``delete(name)`` deletes list\n",
    "   6. ``sort(name)`` returns the sorted list *name*\n",
    "   7. ``append(name, list)`` appends *list* to *name* \n",
    "3. add comments and documentation to your class\n",
    "4. Import your module in this notebook\n",
    "5. write tests to check the functionality of your class "
   ]
  },
  {
   "cell_type": "code",
   "execution_count": 2,
   "metadata": {},
   "outputs": [
    {
     "name": "stdout",
     "output_type": "stream",
     "text": [
      "dict_keys(['example'])\n",
      "dict_keys(['example', 'test'])\n",
      "dict_keys(['test'])\n",
      "['a', 'b', 'c']\n",
      "['a', 'c', 'b', ['d', 'e']]\n"
     ]
    }
   ],
   "source": [
    "class ListKeeper:\n",
    "    '''Listkeeper strores named lists (hint: use dictionaries)'''\n",
    "\n",
    "    lists = dict()\n",
    "\n",
    "    def __init__(self):\n",
    "        '''initializes with a list: [1,2,3,4,5]'''\n",
    "        self.lists[\"example\"] = [1, 2, 3, 4, 5]\n",
    "\n",
    "    def show(self):\n",
    "        '''returns all list names'''\n",
    "        return self.lists.keys();\n",
    "\n",
    "    def add(self, name, list):\n",
    "        '''adds a new list'''\n",
    "        self.lists[name] = list\n",
    "\n",
    "    def delete(self, name):\n",
    "        '''deletes list'''\n",
    "        self.lists.pop(name)\n",
    "\n",
    "    def sort(self, name):\n",
    "        '''returns the sorted list name'''\n",
    "        return sorted(self.lists[name])\n",
    "\n",
    "    def append(self, name, list):\n",
    "        '''appends list to name'''\n",
    "        self.lists[name].append(list)\n",
    "\n",
    "\n",
    "'''Small class testing'''\n",
    "if __name__ == \"__main__\":\n",
    "    listkeeper = ListKeeper()\n",
    "    print(listkeeper.show()) #should return the dict with \"example\" element\n",
    "\n",
    "    listkeeper.add(\"test\", ['a', 'c', 'b'])\n",
    "    print(listkeeper.show()) #should return the dict with \"example\" and \"test\" element\n",
    "\n",
    "    listkeeper.delete(\"example\")\n",
    "    print(listkeeper.show()) #should return the dict with \"test\" element\n",
    "\n",
    "    print(listkeeper.sort(\"test\")) #should return ['a', 'c', 'b']\n",
    "\n",
    "    listkeeper.append(\"test\", ['d', 'e'])\n",
    "    print(listkeeper.lists[\"test\"]) #should return ['a', 'c', 'b', ['d', 'e']]\n",
    "\n",
    "\n",
    "\n"
   ]
  },
  {
   "cell_type": "code",
   "execution_count": null,
   "metadata": {},
   "outputs": [],
   "source": []
  },
  {
   "cell_type": "code",
   "execution_count": null,
   "metadata": {},
   "outputs": [],
   "source": []
  }
 ],
 "metadata": {
  "kernelspec": {
   "display_name": "Python 3",
   "language": "python",
   "name": "python3"
  },
  "language_info": {
   "codemirror_mode": {
    "name": "ipython",
    "version": 3
   },
   "file_extension": ".py",
   "mimetype": "text/x-python",
   "name": "python",
   "nbconvert_exporter": "python",
   "pygments_lexer": "ipython3",
   "version": "3.7.6"
  }
 },
 "nbformat": 4,
 "nbformat_minor": 4
}
