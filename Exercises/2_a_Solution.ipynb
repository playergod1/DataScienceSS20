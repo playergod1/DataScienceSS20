{
 "cells": [
  {
   "cell_type": "markdown",
   "metadata": {},
   "source": [
    "# Exercise 3: Numpy"
   ]
  },
  {
   "cell_type": "markdown",
   "metadata": {},
   "source": [
    "Perform the follwing tasks:\n"
   ]
  },
  {
   "cell_type": "code",
   "execution_count": 1,
   "metadata": {},
   "outputs": [],
   "source": [
    "#3.1: import the numpy library\n",
    "import numpy as np"
   ]
  },
  {
   "cell_type": "code",
   "execution_count": 3,
   "metadata": {},
   "outputs": [
    {
     "data": {
      "text/plain": [
       "array([[0.12818731, 0.46533453, 0.20760716, 0.58938932, 0.6142864 ,\n",
       "        0.92153372, 0.45443786, 0.42029433, 0.79380933, 0.70644159],\n",
       "       [0.29272289, 0.25826021, 0.66784663, 0.35120661, 0.06134315,\n",
       "        0.52609315, 0.00834432, 0.21389426, 0.43179722, 0.25397015],\n",
       "       [0.86765402, 0.27763073, 0.26373335, 0.79903778, 0.10708722,\n",
       "        0.06394127, 0.97371183, 0.47561403, 0.67450261, 0.6993786 ],\n",
       "       [0.72917165, 0.19050836, 0.87987873, 0.82736197, 0.14947331,\n",
       "        0.85499865, 0.99089034, 0.34698162, 0.69957134, 0.88045302],\n",
       "       [0.89831484, 0.93394295, 0.97841998, 0.79385477, 0.05772836,\n",
       "        0.91749334, 0.53827415, 0.52182742, 0.908385  , 0.83429505],\n",
       "       [0.40424202, 0.53644658, 0.80388043, 0.16269474, 0.59537085,\n",
       "        0.38418703, 0.28521554, 0.30244247, 0.1226941 , 0.11798573],\n",
       "       [0.60635951, 0.11320623, 0.48238724, 0.82733731, 0.66518148,\n",
       "        0.11521885, 0.52316713, 0.8317538 , 0.45586863, 0.86092933],\n",
       "       [0.15104272, 0.73731153, 0.31816143, 0.34967657, 0.5834836 ,\n",
       "        0.56510827, 0.91155296, 0.75059963, 0.78883688, 0.39326713],\n",
       "       [0.16020408, 0.9505483 , 0.93804704, 0.79276153, 0.2402316 ,\n",
       "        0.99639059, 0.01459132, 0.4402496 , 0.52621473, 0.33068618],\n",
       "       [0.1376534 , 0.22373451, 0.06790159, 0.31651652, 0.66147767,\n",
       "        0.14348627, 0.04366207, 0.85630162, 0.07176739, 0.79546754]])"
      ]
     },
     "execution_count": 3,
     "metadata": {},
     "output_type": "execute_result"
    }
   ],
   "source": [
    "#3.2: create a random 10x10 array named A\n",
    "A = np.random.rand(10,10)\n",
    "A"
   ]
  },
  {
   "cell_type": "code",
   "execution_count": 4,
   "metadata": {},
   "outputs": [
    {
     "data": {
      "text/plain": [
       "array([[0.12818731, 0.46533453, 0.20760716, 0.58938932, 0.6142864 ,\n",
       "        0.92153372, 0.45443786, 0.42029433, 0.79380933, 0.70644159],\n",
       "       [0.86765402, 0.27763073, 0.26373335, 0.79903778, 0.10708722,\n",
       "        0.06394127, 0.97371183, 0.47561403, 0.67450261, 0.6993786 ],\n",
       "       [0.89831484, 0.93394295, 0.97841998, 0.79385477, 0.05772836,\n",
       "        0.91749334, 0.53827415, 0.52182742, 0.908385  , 0.83429505],\n",
       "       [0.60635951, 0.11320623, 0.48238724, 0.82733731, 0.66518148,\n",
       "        0.11521885, 0.52316713, 0.8317538 , 0.45586863, 0.86092933],\n",
       "       [0.16020408, 0.9505483 , 0.93804704, 0.79276153, 0.2402316 ,\n",
       "        0.99639059, 0.01459132, 0.4402496 , 0.52621473, 0.33068618]])"
      ]
     },
     "execution_count": 4,
     "metadata": {},
     "output_type": "execute_result"
    }
   ],
   "source": [
    "#3.3: return only the odd rows of A\n",
    "A[0:10:2,:] # start:stop:stepsize , all"
   ]
  },
  {
   "cell_type": "code",
   "execution_count": 5,
   "metadata": {},
   "outputs": [
    {
     "data": {
      "text/plain": [
       "array([[3.36237495, 1.64171302, 2.56270292, 3.505605  , 3.87612625,\n",
       "        1.72147055, 2.79036459, 3.14752213, 3.03361796, 1.85963069],\n",
       "       [1.64171302, 1.29905727, 1.40137779, 2.20799052, 2.64285892,\n",
       "        1.23953655, 1.51864517, 1.51166689, 2.14170077, 0.78718713],\n",
       "       [2.56270292, 1.40137779, 3.67188278, 3.86688659, 3.96443586,\n",
       "        1.51684543, 3.23904277, 2.84938589, 2.18298474, 1.58690178],\n",
       "       [3.505605  , 2.20799052, 3.86688659, 5.14692159, 5.22820313,\n",
       "        2.23362903, 3.65452043, 3.45202889, 3.49348819, 1.77713243],\n",
       "       [3.87612625, 2.64285892, 3.96443586, 5.22820313, 6.19511109,\n",
       "        2.68792991, 3.77131784, 3.89236264, 4.49834684, 2.01934038],\n",
       "       [1.72147055, 1.23953655, 1.51684543, 2.23362903, 2.68792991,\n",
       "        1.82773982, 1.82680826, 1.96392456, 2.22445417, 1.10479165],\n",
       "       [2.79036459, 1.51864517, 3.23904277, 3.65452043, 3.77131784,\n",
       "        1.82680826, 3.66794751, 2.87045538, 2.48612816, 2.31258392],\n",
       "       [3.14752213, 1.51166689, 2.84938589, 3.45202889, 3.89236264,\n",
       "        1.96392456, 2.87045538, 3.62099432, 2.8928457 , 1.83706627],\n",
       "       [3.03361796, 2.14170077, 2.18298474, 3.49348819, 4.49834684,\n",
       "        2.22445417, 2.48612816, 2.8928457 , 4.06840386, 1.52965502],\n",
       "       [1.85963069, 0.78718713, 1.58690178, 1.77713243, 2.01934038,\n",
       "        1.10479165, 2.31258392, 1.83706627, 1.52965502, 2.00501796]])"
      ]
     },
     "execution_count": 5,
     "metadata": {},
     "output_type": "execute_result"
    }
   ],
   "source": [
    "#3.4: perform a matrix multiplication of A with it's transposed\n",
    "A.dot(A.T)"
   ]
  },
  {
   "cell_type": "code",
   "execution_count": 4,
   "metadata": {},
   "outputs": [
    {
     "data": {
      "text/plain": [
       "array([[ True,  True,  True,  True,  True,  True,  True,  True,  True,\n",
       "         True],\n",
       "       [ True,  True,  True,  True,  True,  True,  True,  True,  True,\n",
       "         True],\n",
       "       [ True,  True,  True,  True,  True,  True,  True,  True,  True,\n",
       "         True],\n",
       "       [ True,  True,  True,  True,  True,  True,  True,  True,  True,\n",
       "         True],\n",
       "       [ True,  True,  True,  True,  True,  True,  True,  True,  True,\n",
       "         True],\n",
       "       [ True,  True,  True,  True,  True,  True,  True,  True,  True,\n",
       "         True],\n",
       "       [ True,  True,  True,  True,  True,  True,  True,  True,  True,\n",
       "         True],\n",
       "       [ True,  True,  True,  True,  True,  True,  True,  True,  True,\n",
       "         True],\n",
       "       [ True,  True,  True,  True,  True,  True,  True,  True,  True,\n",
       "         True],\n",
       "       [ True,  True,  True,  True,  True,  True,  True,  True,  True,\n",
       "         True]])"
      ]
     },
     "execution_count": 4,
     "metadata": {},
     "output_type": "execute_result"
    }
   ],
   "source": [
    "#3.5: compute the matrix inverse of A\n",
    "A_inv=np.linalg.inv(A)\n",
    "np.isclose(A.dot(A_inv),np.identity(10))#test for identity AA^-1"
   ]
  },
  {
   "cell_type": "code",
   "execution_count": null,
   "metadata": {},
   "outputs": [],
   "source": [
    "#3.6: divide all entries of A which are lager than 0.5 by 2 (hint: use where() )\n",
    "mask=A>0.5\n",
    "A[mask]/=2\n",
    "A\n"
   ]
  },
  {
   "cell_type": "code",
   "execution_count": null,
   "metadata": {},
   "outputs": [],
   "source": [
    "#in one line\n",
    "A[A>0.5]/=2"
   ]
  },
  {
   "cell_type": "code",
   "execution_count": null,
   "metadata": {},
   "outputs": [],
   "source": []
  }
 ],
 "metadata": {
  "kernelspec": {
   "display_name": "Python 3",
   "language": "python",
   "name": "python3"
  },
  "language_info": {
   "codemirror_mode": {
    "name": "ipython",
    "version": 3
   },
   "file_extension": ".py",
   "mimetype": "text/x-python",
   "name": "python",
   "nbconvert_exporter": "python",
   "pygments_lexer": "ipython3",
   "version": "3.7.6"
  }
 },
 "nbformat": 4,
 "nbformat_minor": 4
}
