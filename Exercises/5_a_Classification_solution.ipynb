{
 "cells": [
  {
   "cell_type": "markdown",
   "metadata": {},
   "source": [
    "# Block 5 Exercise 1: Classification"
   ]
  },
  {
   "cell_type": "markdown",
   "metadata": {},
   "source": [
    "## MNIST Data\n",
    "In these exercises we are using the MNIST data set on handwritten digits to compare supervised classification algorithms...   "
   ]
  },
  {
   "cell_type": "code",
   "execution_count": 1,
   "metadata": {},
   "outputs": [],
   "source": [
    "#imports \n",
    "import matplotlib.pyplot as plt\n",
    "import numpy as np\n",
    "from sklearn.datasets import fetch_openml"
   ]
  },
  {
   "cell_type": "code",
   "execution_count": 2,
   "metadata": {},
   "outputs": [],
   "source": [
    "# Load data from https://www.openml.org/d/554\n",
    "X, y = fetch_openml('mnist_784', version=1, return_X_y=True)\n"
   ]
  },
  {
   "cell_type": "code",
   "execution_count": 3,
   "metadata": {},
   "outputs": [
    {
     "data": {
      "text/plain": [
       "(70000, 784)"
      ]
     },
     "execution_count": 3,
     "metadata": {},
     "output_type": "execute_result"
    }
   ],
   "source": [
    "#the full MNIST data set contains 70k samples of digits 0-9 as 28*28 gray scale images (represented as 784 dim vectors)\n",
    "np.shape(X)"
   ]
  },
  {
   "cell_type": "markdown",
   "metadata": {},
   "source": [
    "### E1.1: Use SkLearn methods to split the MNIST data into random train and test sets. Use 60k samples for training.  \n"
   ]
  },
  {
   "cell_type": "code",
   "execution_count": 4,
   "metadata": {},
   "outputs": [],
   "source": [
    "from sklearn.model_selection import train_test_split\n",
    "X_train, X_test, y_train, y_test = train_test_split(X, y, test_size=0.1) #split 90% train 10% test"
   ]
  },
  {
   "cell_type": "markdown",
   "metadata": {},
   "source": [
    "### E1.2: Visualize the data.\n",
    "* Plot some data samples as images (use https://matplotlib.org/3.1.0/api/_as_gen/matplotlib.pyplot.imshow.html)"
   ]
  },
  {
   "cell_type": "code",
   "execution_count": 80,
   "metadata": {},
   "outputs": [
    {
     "data": {
      "text/plain": [
       "<matplotlib.image.AxesImage at 0x7ff42221b8d0>"
      ]
     },
     "execution_count": 80,
     "metadata": {},
     "output_type": "execute_result"
    },
    {
     "data": {
      "image/png": "[encoded data removed]",
      "text/plain": [
       "<Figure size 432x288 with 1 Axes>"
      ]
     },
     "metadata": {
      "needs_background": "light"
     },
     "output_type": "display_data"
    }
   ],
   "source": [
    "import matplotlib.pyplot as plt\n",
    "%matplotlib inline\n",
    "\n",
    "plt.imshow(np.reshape(X_train[334,:],(28,28)), cmap='gray') #need to reshape 1D vector to 2D"
   ]
  },
  {
   "cell_type": "markdown",
   "metadata": {},
   "source": [
    "### E1.3: Train models on the train data.\n",
    "Train the following models with default parameters on the train data.\n",
    "* [Naive Bayes](https://scikit-learn.org/stable/modules/generated/sklearn.naive_bayes.GaussianNB.html#sklearn.naive_bayes.GaussianNB) (assuming a Gaussian distribution of the data)\n",
    "* [Simple linear model](https://scikit-learn.org/stable/modules/generated/sklearn.linear_model.SGDClassifier.html#sklearn.linear_model.SGDClassifier)\n",
    "   * use ``loss='log'`` to reproduce our logistic loss function \n",
    "* [Random Forest](https://scikit-learn.org/stable/modules/generated/sklearn.ensemble.RandomForestClassifier.html#sklearn.ensemble.RandomForestClassifier)\n",
    "\n",
    "Compare the training accuracy (https://scikit-learn.org/stable/modules/generated/sklearn.metrics.accuracy_score.html#sklearn.metrics.accuracy_score) and [confusion matrix](https://scikit-learn.org/stable/modules/generated/sklearn.metrics.confusion_matrix.html#sklearn.metrics.confusion_matrix) for all three models."
   ]
  },
  {
   "cell_type": "code",
   "execution_count": 19,
   "metadata": {},
   "outputs": [],
   "source": [
    "#define models\n",
    "from sklearn.naive_bayes import GaussianNB\n",
    "from sklearn import linear_model\n",
    "from sklearn.ensemble import RandomForestClassifier\n",
    "\n",
    "bayes=GaussianNB()\n",
    "linear=linear_model.SGDClassifier(loss='log', max_iter=50) #limit number of iterations -> linear model will not converge\n",
    "rf=RandomForestClassifier()\n",
    "\n",
    "#now train all"
   ]
  },
  {
   "cell_type": "code",
   "execution_count": 20,
   "metadata": {},
   "outputs": [
    {
     "name": "stdout",
     "output_type": "stream",
     "text": [
      "CPU times: user 468 ms, sys: 176 ms, total: 644 ms\n",
      "Wall time: 644 ms\n"
     ]
    },
    {
     "data": {
      "text/plain": [
       "GaussianNB(priors=None, var_smoothing=1e-09)"
      ]
     },
     "execution_count": 20,
     "metadata": {},
     "output_type": "execute_result"
    }
   ],
   "source": [
    "%%time\n",
    "bayes.fit(X_train,y_train)"
   ]
  },
  {
   "cell_type": "code",
   "execution_count": 21,
   "metadata": {},
   "outputs": [
    {
     "name": "stdout",
     "output_type": "stream",
     "text": [
      "CPU times: user 38.7 s, sys: 0 ns, total: 38.7 s\n",
      "Wall time: 38.7 s\n"
     ]
    },
    {
     "name": "stderr",
     "output_type": "stream",
     "text": [
      "/home/keuper/anaconda3/lib/python3.7/site-packages/sklearn/linear_model/_stochastic_gradient.py:557: ConvergenceWarning: Maximum number of iteration reached before convergence. Consider increasing max_iter to improve the fit.\n",
      "  ConvergenceWarning)\n"
     ]
    },
    {
     "data": {
      "text/plain": [
       "SGDClassifier(alpha=0.0001, average=False, class_weight=None,\n",
       "              early_stopping=False, epsilon=0.1, eta0=0.0, fit_intercept=True,\n",
       "              l1_ratio=0.15, learning_rate='optimal', loss='log', max_iter=50,\n",
       "              n_iter_no_change=5, n_jobs=None, penalty='l2', power_t=0.5,\n",
       "              random_state=None, shuffle=True, tol=0.001,\n",
       "              validation_fraction=0.1, verbose=0, warm_start=False)"
      ]
     },
     "execution_count": 21,
     "metadata": {},
     "output_type": "execute_result"
    }
   ],
   "source": [
    "%%time\n",
    "linear.fit(X_train,y_train)"
   ]
  },
  {
   "cell_type": "code",
   "execution_count": 22,
   "metadata": {},
   "outputs": [
    {
     "name": "stdout",
     "output_type": "stream",
     "text": [
      "CPU times: user 36.1 s, sys: 87.9 ms, total: 36.2 s\n",
      "Wall time: 36.2 s\n"
     ]
    },
    {
     "data": {
      "text/plain": [
       "RandomForestClassifier(bootstrap=True, ccp_alpha=0.0, class_weight=None,\n",
       "                       criterion='gini', max_depth=None, max_features='auto',\n",
       "                       max_leaf_nodes=None, max_samples=None,\n",
       "                       min_impurity_decrease=0.0, min_impurity_split=None,\n",
       "                       min_samples_leaf=1, min_samples_split=2,\n",
       "                       min_weight_fraction_leaf=0.0, n_estimators=100,\n",
       "                       n_jobs=None, oob_score=False, random_state=None,\n",
       "                       verbose=0, warm_start=False)"
      ]
     },
     "execution_count": 22,
     "metadata": {},
     "output_type": "execute_result"
    }
   ],
   "source": [
    "%%time\n",
    "rf.fit(X_train,y_train)"
   ]
  },
  {
   "cell_type": "code",
   "execution_count": 29,
   "metadata": {},
   "outputs": [],
   "source": [
    "#train error\n",
    "from sklearn.metrics import accuracy_score\n",
    "from sklearn.metrics import confusion_matrix"
   ]
  },
  {
   "cell_type": "code",
   "execution_count": 28,
   "metadata": {},
   "outputs": [
    {
     "name": "stdout",
     "output_type": "stream",
     "text": [
      "CPU times: user 1.57 s, sys: 448 ms, total: 2.02 s\n",
      "Wall time: 2.02 s\n"
     ]
    },
    {
     "data": {
      "text/plain": [
       "0.5673174603174603"
      ]
     },
     "execution_count": 28,
     "metadata": {},
     "output_type": "execute_result"
    }
   ],
   "source": [
    "%%time\n",
    "#Bayes\n",
    "accuracy_score(y_train,bayes.predict(X_train))"
   ]
  },
  {
   "cell_type": "code",
   "execution_count": 30,
   "metadata": {},
   "outputs": [
    {
     "data": {
      "text/plain": [
       "array([[5445,   10,   36,   14,   12,   18,  230,    6,  322,  108],\n",
       "       [   3, 6739,   18,   27,    3,   13,   79,    2,  169,   67],\n",
       "       [ 418,  175, 2088,  363,   27,   50, 1542,   16, 1488,   85],\n",
       "       [ 263,  339,   60, 2241,   11,   29,  343,   48, 2460,  613],\n",
       "       [ 122,   49,   55,   31,  992,   50,  605,   26, 1328, 2893],\n",
       "       [ 494,  154,   33,  124,   32,  471,  329,   15, 3466,  552],\n",
       "       [  45,   98,   30,    2,    5,   29, 5853,    0,  130,    7],\n",
       "       [  26,   55,   12,   55,   45,    4,   20, 1992,  236, 4129],\n",
       "       [  85,  791,   32,   49,   21,   50,  103,   10, 3993, 1012],\n",
       "       [  31,   44,   16,   12,   37,    5,    4,   87,  117, 5927]])"
      ]
     },
     "execution_count": 30,
     "metadata": {},
     "output_type": "execute_result"
    }
   ],
   "source": [
    "confusion_matrix(y_train,bayes.predict(X_train))"
   ]
  },
  {
   "cell_type": "code",
   "execution_count": 26,
   "metadata": {},
   "outputs": [
    {
     "name": "stdout",
     "output_type": "stream",
     "text": [
      "CPU times: user 273 ms, sys: 3.92 ms, total: 277 ms\n",
      "Wall time: 121 ms\n"
     ]
    },
    {
     "data": {
      "text/plain": [
       "0.8806349206349207"
      ]
     },
     "execution_count": 26,
     "metadata": {},
     "output_type": "execute_result"
    }
   ],
   "source": [
    "%%time\n",
    "#Linear\n",
    "accuracy_score(y_train,linear.predict(X_train))"
   ]
  },
  {
   "cell_type": "code",
   "execution_count": 31,
   "metadata": {},
   "outputs": [
    {
     "data": {
      "text/plain": [
       "array([[6012,    1,   16,   23,   12,    7,   49,    3,   39,   39],\n",
       "       [   3, 6759,   41,   16,   15,    5,    4,    4,  239,   34],\n",
       "       [  29,   27, 5391,  128,  117,    9,   32,   43,  417,   59],\n",
       "       [  24,   10,  150, 5567,   30,  124,   20,   17,  280,  185],\n",
       "       [   8,   10,   17,    5, 5392,    1,   18,    3,   72,  625],\n",
       "       [  54,   20,   73,  247,  174, 4113,  112,    4,  558,  315],\n",
       "       [  29,   26,   90,    3,  105,   48, 5799,    5,   75,   19],\n",
       "       [  14,   16,   66,   46,  155,    6,    3, 5164,  109,  995],\n",
       "       [  46,   58,   58,  114,   76,   77,   17,    7, 5401,  292],\n",
       "       [  20,   10,   14,   32,  183,    6,    3,   30,  100, 5882]])"
      ]
     },
     "execution_count": 31,
     "metadata": {},
     "output_type": "execute_result"
    }
   ],
   "source": [
    "confusion_matrix(y_train,linear.predict(X_train))"
   ]
  },
  {
   "cell_type": "code",
   "execution_count": 27,
   "metadata": {},
   "outputs": [
    {
     "name": "stdout",
     "output_type": "stream",
     "text": [
      "CPU times: user 2.57 s, sys: 16 ms, total: 2.59 s\n",
      "Wall time: 2.59 s\n"
     ]
    },
    {
     "data": {
      "text/plain": [
       "1.0"
      ]
     },
     "execution_count": 27,
     "metadata": {},
     "output_type": "execute_result"
    }
   ],
   "source": [
    "%%time\n",
    "#random Forest\n",
    "accuracy_score(y_train,rf.predict(X_train))"
   ]
  },
  {
   "cell_type": "code",
   "execution_count": 32,
   "metadata": {},
   "outputs": [
    {
     "data": {
      "text/plain": [
       "array([[6201,    0,    0,    0,    0,    0,    0,    0,    0,    0],\n",
       "       [   0, 7120,    0,    0,    0,    0,    0,    0,    0,    0],\n",
       "       [   0,    0, 6252,    0,    0,    0,    0,    0,    0,    0],\n",
       "       [   0,    0,    0, 6407,    0,    0,    0,    0,    0,    0],\n",
       "       [   0,    0,    0,    0, 6151,    0,    0,    0,    0,    0],\n",
       "       [   0,    0,    0,    0,    0, 5670,    0,    0,    0,    0],\n",
       "       [   0,    0,    0,    0,    0,    0, 6199,    0,    0,    0],\n",
       "       [   0,    0,    0,    0,    0,    0,    0, 6574,    0,    0],\n",
       "       [   0,    0,    0,    0,    0,    0,    0,    0, 6146,    0],\n",
       "       [   0,    0,    0,    0,    0,    0,    0,    0,    0, 6280]])"
      ]
     },
     "execution_count": 32,
     "metadata": {},
     "output_type": "execute_result"
    }
   ],
   "source": [
    "confusion_matrix(y_train,rf.predict(X_train))"
   ]
  },
  {
   "cell_type": "markdown",
   "metadata": {},
   "source": [
    "### E1.4: Evaluate and compare the models on the test set.\n",
    "* compute the test [accuracy](https://scikit-learn.org/stable/modules/generated/sklearn.metrics.accuracy_score.html#sklearn.metrics.accuracy_score) \n",
    "* compute the [F-Measure](https://scikit-learn.org/stable/modules/generated/sklearn.metrics.f1_score.html#sklearn.metrics.f1_score)\n",
    "* plot a [ROC curves](https://scikit-learn.org/stable/modules/generated/sklearn.metrics.roc_curve.html#sklearn.metrics.roc_curve) for the class \"5\" for all three models.\n",
    "                          "
   ]
  },
  {
   "cell_type": "code",
   "execution_count": 37,
   "metadata": {},
   "outputs": [],
   "source": [
    "from sklearn.metrics import f1_score\n",
    "bayes_train_acc=accuracy_score(y_train,bayes.predict(X_train))\n",
    "bayes_test_acc=accuracy_score(y_test,bayes.predict(X_test))\n",
    "bayes_test_f1=f1_score(y_test,bayes.predict(X_test),average='micro') #f1 ins a binary measure, we need to average it over all classesd"
   ]
  },
  {
   "cell_type": "code",
   "execution_count": 38,
   "metadata": {},
   "outputs": [],
   "source": [
    "linear_train_acc=accuracy_score(y_train,linear.predict(X_train))\n",
    "linear_test_acc=accuracy_score(y_test,linear.predict(X_test))\n",
    "linear_test_f1=f1_score(y_test,linear.predict(X_test),average='micro')"
   ]
  },
  {
   "cell_type": "code",
   "execution_count": 39,
   "metadata": {},
   "outputs": [],
   "source": [
    "rf_train_acc=accuracy_score(y_train,rf.predict(X_train))\n",
    "rf_test_acc=accuracy_score(y_test,rf.predict(X_test))\n",
    "rf_test_f1=f1_score(y_test,rf.predict(X_test),average='micro')"
   ]
  },
  {
   "cell_type": "code",
   "execution_count": 81,
   "metadata": {},
   "outputs": [
    {
     "data": {
      "text/plain": [
       "0.967"
      ]
     },
     "execution_count": 81,
     "metadata": {},
     "output_type": "execute_result"
    }
   ],
   "source": [
    "rf_test_acc"
   ]
  },
  {
   "cell_type": "code",
   "execution_count": 48,
   "metadata": {},
   "outputs": [
    {
     "data": {
      "image/png": "[encoded data removed]",
      "text/plain": [
       "<Figure size 432x288 with 1 Axes>"
      ]
     },
     "metadata": {
      "needs_background": "light"
     },
     "output_type": "display_data"
    }
   ],
   "source": [
    "import matplotlib.pyplot as plt\n",
    "train_acc=[bayes_train_acc,linear_train_acc,rf_train_acc]\n",
    "test_acc=[bayes_test_acc,linear_test_acc,rf_test_acc]\n",
    "test_f1=[bayes_test_f1,linear_test_f1,rf_test_f1]\n",
    "\n",
    "# Set position of bar on X axis\n",
    "barWidth = 0.25\n",
    "r1 = np.arange(len(train_acc))\n",
    "r2 = [x + barWidth for x in r1]\n",
    "r3 = [x + barWidth for x in r2]\n",
    "\n",
    "plt.bar(r1, train_acc, color='blue', width=barWidth, edgecolor='white', label='Train Acc')\n",
    "plt.bar(r2, test_acc, color='red', width=barWidth, edgecolor='white', label='Test Acc')\n",
    "plt.bar(r3, test_f1, color='green', width=barWidth, edgecolor='white', label='F1')\n",
    "\n",
    "# Add xticks on the middle of the group bars\n",
    "plt.xlabel('Model', fontweight='bold')\n",
    "plt.xticks([r + barWidth for r in range(len(train_acc))], ['Bayes', 'Linear', 'RF'])\n",
    " \n",
    "# Create legend & Show graphic\n",
    "plt.legend()\n",
    "plt.show()"
   ]
  },
  {
   "cell_type": "code",
   "execution_count": 77,
   "metadata": {},
   "outputs": [],
   "source": [
    "#ROC\n",
    "from sklearn.metrics import roc_auc_score,  roc_curve, auc\n",
    "\n",
    "#get the 5\n",
    "y_five = y_test=='5' #get bool lables=='5' - NOTE original lables are strings!\n",
    "bayes_five = bayes.predict(X_test).astype(int)==5 #get bool for predictions - cast to int because predictions are uint\n",
    "linear_five = linear.predict(X_test).astype(int)==5\n",
    "rf_five = rf.predict(X_test).astype(int)==5\n",
    "\n",
    "bayes_fpr, bayes_tpr, _ = roc_curve(y_five, bayes_five)\n",
    "bayes_roc_auc = auc(bayes_fpr, bayes_tpr)\n",
    "linear_fpr, linear_tpr, _ = roc_curve(y_five, linear_five)\n",
    "linear_roc_auc = auc(linear_fpr, linear_tpr)\n",
    "rf_fpr, rf_tpr, _ = roc_curve(y_five, rf_five)\n",
    "rf_roc_auc = auc(rf_fpr, rf_tpr)"
   ]
  },
  {
   "cell_type": "code",
   "execution_count": 78,
   "metadata": {},
   "outputs": [
    {
     "data": {
      "image/png": "[encoded data removed]",
      "text/plain": [
       "<Figure size 432x288 with 1 Axes>"
      ]
     },
     "metadata": {
      "needs_background": "light"
     },
     "output_type": "display_data"
    }
   ],
   "source": [
    "lw = 2\n",
    "plt.plot(bayes_fpr, bayes_tpr, color='darkorange',\n",
    "         lw=lw, label='Bayes (area = %0.2f)' % bayes_roc_auc)\n",
    "plt.plot(linear_fpr, linear_tpr, color='blue',\n",
    "         lw=lw, label='Linear (area = %0.2f)' % linear_roc_auc)\n",
    "plt.plot(rf_fpr, rf_tpr, color='red',\n",
    "         lw=lw, label='RF (area = %0.2f)' % rf_roc_auc)\n",
    "plt.plot([0, 1], [0, 1], color='navy', lw=lw, linestyle='--')\n",
    "plt.xlim([0.0, 1.0])\n",
    "plt.ylim([0.0, 1.05])\n",
    "plt.xlabel('False Positive Rate')\n",
    "plt.ylabel('True Positive Rate')\n",
    "plt.title('Receiver operating characteristic example')\n",
    "plt.legend(loc=\"lower right\")\n",
    "plt.show()\n"
   ]
  },
  {
   "cell_type": "code",
   "execution_count": null,
   "metadata": {},
   "outputs": [],
   "source": []
  }
 ],
 "metadata": {
  "kernelspec": {
   "display_name": "Python 3",
   "language": "python",
   "name": "python3"
  },
  "language_info": {
   "codemirror_mode": {
    "name": "ipython",
    "version": 3
   },
   "file_extension": ".py",
   "mimetype": "text/x-python",
   "name": "python",
   "nbconvert_exporter": "python",
   "pygments_lexer": "ipython3",
   "version": "3.7.6"
  }
 },
 "nbformat": 4,
 "nbformat_minor": 4
}
