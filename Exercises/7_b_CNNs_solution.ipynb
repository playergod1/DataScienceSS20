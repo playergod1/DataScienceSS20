{
  "nbformat": 4,
  "nbformat_minor": 0,
  "metadata": {
    "colab": {
      "name": "7_b_CNNs_solution.ipynb",
      "provenance": [],
      "authorship_tag": "ABX9TyPCUIdWpBwLRQrYjhU8/Xfd",
      "include_colab_link": true
    },
    "kernelspec": {
      "display_name": "Python 3",
      "language": "python",
      "name": "python3"
    },
    "language_info": {
      "codemirror_mode": {
        "name": "ipython",
        "version": 3
      },
      "file_extension": ".py",
      "mimetype": "text/x-python",
      "name": "python",
      "nbconvert_exporter": "python",
      "pygments_lexer": "ipython3",
      "version": "3.7.6"
    },
    "accelerator": "GPU"
  },
  "cells": [
    {
      "cell_type": "markdown",
      "metadata": {
        "id": "view-in-github",
        "colab_type": "text"
      },
      "source": [
        "<a href=\"https://colab.research.google.com/github/keuperj/DataScienceSS20/blob/master/Exercises/7_b_CNNs_solution.ipynb\" target=\"_parent\"><img src=\"https://colab.research.google.com/assets/colab-badge.svg\" alt=\"Open In Colab\"/></a>"
      ]
    },
    {
      "cell_type": "markdown",
      "metadata": {
        "colab_type": "text",
        "id": "NgYV9F8IE2L_"
      },
      "source": [
        "# Exercise 2 - Image Classification with CNNs\n",
        "![CIFAR10](https://miro.medium.com/max/964/1*syyml8q8s1Yt-iEea5m1Ag.png)\n",
        "\n",
        "[CIFAR 10](https://www.cs.toronto.edu/~kriz/cifar.html) is a small toy data set for image classifaction. \n",
        "\n",
        "* It has 60k images from ten diffenrent classes (like car, airplane, horse,..)\n",
        "* The RGB images are of size 32x32 pixels  "
      ]
    },
    {
      "cell_type": "code",
      "metadata": {
        "colab_type": "code",
        "id": "GiDFXXcUEy-G",
        "outputId": "b4fda0c6-9134-4911-9d74-45d328348168",
        "colab": {
          "base_uri": "https://localhost:8080/",
          "height": 71
        }
      },
      "source": [
        "#import needed libs\n",
        "from __future__ import print_function\n",
        "import keras\n",
        "from keras.datasets import cifar10\n",
        "from keras.preprocessing.image import ImageDataGenerator\n",
        "from keras.models import Sequential\n",
        "from keras.layers import Dense, Dropout, Activation, Flatten\n",
        "from keras.layers import Conv2D, MaxPooling2D\n",
        "import os\n",
        "\n",
        "#some vars to controll the training -> use them in your code\n",
        "batch_size = 32\n",
        "num_classes = 10 #fixed!\n",
        "epochs = 20\n",
        "# Get the data, split between train and test sets:\n",
        "(x_train, y_train), (x_test, y_test) = cifar10.load_data()\n",
        "print('x_train shape:', x_train.shape)\n",
        "print(x_train.shape[0], 'train samples')\n",
        "print(x_test.shape[0], 'test samples')\n",
        "\n",
        "# Convert class vectors to binary class matrices.\n",
        "y_train = keras.utils.to_categorical(y_train, num_classes)\n",
        "y_test = keras.utils.to_categorical(y_test, num_classes)"
      ],
      "execution_count": 45,
      "outputs": [
        {
          "output_type": "stream",
          "text": [
            "x_train shape: (50000, 32, 32, 3)\n",
            "50000 train samples\n",
            "10000 test samples\n"
          ],
          "name": "stdout"
        }
      ]
    },
    {
      "cell_type": "markdown",
      "metadata": {
        "colab_type": "text",
        "id": "vmocaCkIGOIR"
      },
      "source": [
        "## Task:\n",
        "* build and train the ***AlexNet*** CNN architecture from the lecture\n",
        "* use 'relu' functions for the non-linear activation\n",
        "* optimize the learning hyper-paramters to get the best  test accuracy"
      ]
    },
    {
      "cell_type": "code",
      "metadata": {
        "colab_type": "code",
        "id": "9p5AD8mJEzmL",
        "colab": {}
      },
      "source": [
        "#build model - here we are using the simple sequential mode, just add new layers and keras will connect them\n",
        "model = Sequential()\n",
        "#conv 1\n",
        "model.add(Conv2D(32, (3, 3), padding='same',\n",
        "                 input_shape=x_train.shape[1:])) #use padding to handle border effecrts of the convolution\n",
        "model.add(Activation('relu'))\n",
        "#conv 2\n",
        "model.add(Conv2D(32, (3, 3)))\n",
        "model.add(Activation('relu'))\n",
        "model.add(MaxPooling2D(pool_size=(2, 2)))\n",
        "#conv 3\n",
        "model.add(Conv2D(64, (3, 3), padding='same'))\n",
        "model.add(Activation('relu'))\n",
        "#conv 4\n",
        "model.add(Conv2D(64, (3, 3)))\n",
        "model.add(Activation('relu'))\n",
        "model.add(MaxPooling2D(pool_size=(2, 2)))\n",
        "#FC1\n",
        "model.add(Flatten()) #3D conv output to 1D FC input\n",
        "model.add(Dense(512))\n",
        "model.add(Activation('relu'))\n",
        "#FC2\n",
        "model.add(Dense(num_classes))\n",
        "model.add(Activation('softmax'))"
      ],
      "execution_count": 0,
      "outputs": []
    },
    {
      "cell_type": "code",
      "metadata": {
        "id": "9VeUEB-qMqO5",
        "colab_type": "code",
        "colab": {}
      },
      "source": [
        "# initiate optimizer\n",
        "opt = keras.optimizers.RMSprop(learning_rate=0.0001, decay=1e-6)\n",
        "\n",
        "# compile model\n",
        "model.compile(loss='categorical_crossentropy',\n",
        "              optimizer=opt,\n",
        "              metrics=['accuracy'])"
      ],
      "execution_count": 0,
      "outputs": []
    },
    {
      "cell_type": "code",
      "metadata": {
        "id": "iZsF-rIvOc_g",
        "colab_type": "code",
        "colab": {
          "base_uri": "https://localhost:8080/",
          "height": 701
        },
        "outputId": "cacd6685-189c-40e0-fadb-ef63976c7fda"
      },
      "source": [
        "#have a look at the model\n",
        "model.summary()\n"
      ],
      "execution_count": 52,
      "outputs": [
        {
          "output_type": "stream",
          "text": [
            "Model: \"sequential_5\"\n",
            "_________________________________________________________________\n",
            "Layer (type)                 Output Shape              Param #   \n",
            "=================================================================\n",
            "conv2d_17 (Conv2D)           (None, 32, 32, 32)        896       \n",
            "_________________________________________________________________\n",
            "activation_25 (Activation)   (None, 32, 32, 32)        0         \n",
            "_________________________________________________________________\n",
            "conv2d_18 (Conv2D)           (None, 30, 30, 32)        9248      \n",
            "_________________________________________________________________\n",
            "activation_26 (Activation)   (None, 30, 30, 32)        0         \n",
            "_________________________________________________________________\n",
            "max_pooling2d_9 (MaxPooling2 (None, 15, 15, 32)        0         \n",
            "_________________________________________________________________\n",
            "conv2d_19 (Conv2D)           (None, 15, 15, 64)        18496     \n",
            "_________________________________________________________________\n",
            "activation_27 (Activation)   (None, 15, 15, 64)        0         \n",
            "_________________________________________________________________\n",
            "conv2d_20 (Conv2D)           (None, 13, 13, 64)        36928     \n",
            "_________________________________________________________________\n",
            "activation_28 (Activation)   (None, 13, 13, 64)        0         \n",
            "_________________________________________________________________\n",
            "max_pooling2d_10 (MaxPooling (None, 6, 6, 64)          0         \n",
            "_________________________________________________________________\n",
            "flatten_5 (Flatten)          (None, 2304)              0         \n",
            "_________________________________________________________________\n",
            "dense_9 (Dense)              (None, 512)               1180160   \n",
            "_________________________________________________________________\n",
            "activation_29 (Activation)   (None, 512)               0         \n",
            "_________________________________________________________________\n",
            "dense_10 (Dense)             (None, 10)                5130      \n",
            "_________________________________________________________________\n",
            "activation_30 (Activation)   (None, 10)                0         \n",
            "=================================================================\n",
            "Total params: 1,250,858\n",
            "Trainable params: 1,250,858\n",
            "Non-trainable params: 0\n",
            "_________________________________________________________________\n"
          ],
          "name": "stdout"
        }
      ]
    },
    {
      "cell_type": "code",
      "metadata": {
        "id": "aDXGwp1lNl1j",
        "colab_type": "code",
        "colab": {}
      },
      "source": [
        "#pre-processing: normalize data\n",
        "x_train = x_train.astype('float32')\n",
        "x_test = x_test.astype('float32')\n",
        "x_train /= 255\n",
        "x_test /= 255"
      ],
      "execution_count": 0,
      "outputs": []
    },
    {
      "cell_type": "code",
      "metadata": {
        "id": "vVr1gAhQNxxi",
        "colab_type": "code",
        "colab": {
          "base_uri": "https://localhost:8080/",
          "height": 755
        },
        "outputId": "25a65ce7-6b04-45dc-f137-b9a153225ab8"
      },
      "source": [
        "#train model\n",
        "model.fit(x_train, y_train,\n",
        "              batch_size=batch_size,\n",
        "              epochs=epochs,\n",
        "              shuffle=True)#shuffel is important - otherwise the NN night memorite the sequence of the training data"
      ],
      "execution_count": 54,
      "outputs": [
        {
          "output_type": "stream",
          "text": [
            "Epoch 1/20\n",
            "50000/50000 [==============================] - 8s 157us/step - loss: 2.1338 - accuracy: 0.2158\n",
            "Epoch 2/20\n",
            "50000/50000 [==============================] - 8s 156us/step - loss: 1.8628 - accuracy: 0.3382\n",
            "Epoch 3/20\n",
            "50000/50000 [==============================] - 8s 159us/step - loss: 1.6563 - accuracy: 0.4118\n",
            "Epoch 4/20\n",
            "50000/50000 [==============================] - 8s 158us/step - loss: 1.5346 - accuracy: 0.4551\n",
            "Epoch 5/20\n",
            "50000/50000 [==============================] - 8s 157us/step - loss: 1.4591 - accuracy: 0.4841\n",
            "Epoch 6/20\n",
            "50000/50000 [==============================] - 8s 157us/step - loss: 1.4019 - accuracy: 0.5056\n",
            "Epoch 7/20\n",
            "50000/50000 [==============================] - 8s 156us/step - loss: 1.3459 - accuracy: 0.5238\n",
            "Epoch 8/20\n",
            "50000/50000 [==============================] - 8s 157us/step - loss: 1.2997 - accuracy: 0.5427\n",
            "Epoch 9/20\n",
            "50000/50000 [==============================] - 8s 157us/step - loss: 1.2583 - accuracy: 0.5585\n",
            "Epoch 10/20\n",
            "50000/50000 [==============================] - 8s 157us/step - loss: 1.2200 - accuracy: 0.5736\n",
            "Epoch 11/20\n",
            "50000/50000 [==============================] - 8s 157us/step - loss: 1.1814 - accuracy: 0.5850\n",
            "Epoch 12/20\n",
            "50000/50000 [==============================] - 8s 157us/step - loss: 1.1481 - accuracy: 0.5977\n",
            "Epoch 13/20\n",
            "50000/50000 [==============================] - 8s 158us/step - loss: 1.1142 - accuracy: 0.6095\n",
            "Epoch 14/20\n",
            "50000/50000 [==============================] - 8s 158us/step - loss: 1.0839 - accuracy: 0.6206\n",
            "Epoch 15/20\n",
            "50000/50000 [==============================] - 8s 157us/step - loss: 1.0559 - accuracy: 0.6314\n",
            "Epoch 16/20\n",
            "50000/50000 [==============================] - 8s 158us/step - loss: 1.0280 - accuracy: 0.6406\n",
            "Epoch 17/20\n",
            "50000/50000 [==============================] - 8s 164us/step - loss: 1.0012 - accuracy: 0.6496\n",
            "Epoch 18/20\n",
            "50000/50000 [==============================] - 8s 157us/step - loss: 0.9734 - accuracy: 0.6600\n",
            "Epoch 19/20\n",
            "50000/50000 [==============================] - 8s 157us/step - loss: 0.9480 - accuracy: 0.6709\n",
            "Epoch 20/20\n",
            "50000/50000 [==============================] - 8s 156us/step - loss: 0.9205 - accuracy: 0.6804\n"
          ],
          "name": "stdout"
        },
        {
          "output_type": "execute_result",
          "data": {
            "text/plain": [
              "<keras.callbacks.callbacks.History at 0x7ff7500e7438>"
            ]
          },
          "metadata": {
            "tags": []
          },
          "execution_count": 54
        }
      ]
    },
    {
      "cell_type": "code",
      "metadata": {
        "id": "SDBx2g1oR0QH",
        "colab_type": "code",
        "colab": {
          "base_uri": "https://localhost:8080/",
          "height": 71
        },
        "outputId": "490f8353-d9bf-4dde-e5a3-e82609f500a3"
      },
      "source": [
        "#eval model\n",
        "scores = model.evaluate(x_test, y_test, verbose=1)\n",
        "print('Test loss:', scores[0])\n",
        "print('Test accuracy:', scores[1])"
      ],
      "execution_count": 55,
      "outputs": [
        {
          "output_type": "stream",
          "text": [
            "10000/10000 [==============================] - 1s 85us/step\n",
            "Test loss: 1.0742625421524048\n",
            "Test accuracy: 0.6256999969482422\n"
          ],
          "name": "stdout"
        }
      ]
    },
    {
      "cell_type": "code",
      "metadata": {
        "id": "HnCwyNyXR07C",
        "colab_type": "code",
        "colab": {}
      },
      "source": [
        ""
      ],
      "execution_count": 0,
      "outputs": []
    }
  ]
}