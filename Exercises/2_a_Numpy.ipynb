{
 "cells": [
  {
   "cell_type": "markdown",
   "metadata": {
    "colab_type": "text",
    "id": "rNdywNwUR2B2"
   },
   "source": [
    "# Exercise 3: Numpy"
   ]
  },
  {
   "cell_type": "markdown",
   "metadata": {
    "colab_type": "text",
    "id": "CH5cVNfyR2B3"
   },
   "source": [
    "Perform the follwing tasks:\n"
   ]
  },
  {
   "cell_type": "code",
   "execution_count": 1,
   "metadata": {
    "colab": {},
    "colab_type": "code",
    "id": "Dk2XhMJpR2B3"
   },
   "outputs": [],
   "source": [
    "#3.1: import the numpy library\n",
    "import numpy as np"
   ]
  },
  {
   "cell_type": "code",
   "execution_count": 3,
   "metadata": {
    "colab": {
     "base_uri": "https://localhost:8080/",
     "height": 527
    },
    "colab_type": "code",
    "executionInfo": {
     "elapsed": 789,
     "status": "ok",
     "timestamp": 1587281804702,
     "user": {
      "displayName": "",
      "photoUrl": "",
      "userId": ""
     },
     "user_tz": -120
    },
    "id": "6K09h1suR2B7",
    "outputId": "e8e263f9-64b2-4cd1-b56f-8918d3cfd699"
   },
   "outputs": [
    {
     "name": "stdout",
     "output_type": "stream",
     "text": [
      "[[6.53470851e-01 9.12972480e-01 3.66695937e-01 2.50726523e-01\n",
      "  1.79728600e-01 9.14111205e-01 4.16726360e-01 6.75506219e-02\n",
      "  9.66339233e-01 7.13083393e-01]\n",
      " [4.19098541e-01 8.18971832e-02 7.07925798e-01 4.38092588e-01\n",
      "  8.31288670e-01 3.96046118e-01 1.46785882e-01 5.28332865e-01\n",
      "  6.55320705e-01 8.96175522e-01]\n",
      " [1.08149646e-01 2.28919659e-02 1.97940254e-01 7.81837320e-01\n",
      "  6.86993419e-01 2.91541110e-01 5.14836263e-01 5.33396933e-02\n",
      "  2.20760056e-01 3.06117881e-01]\n",
      " [6.69598660e-01 1.86591148e-01 8.84659551e-01 7.32942478e-02\n",
      "  3.89627172e-01 8.88678608e-01 3.00441533e-01 3.06981450e-01\n",
      "  4.93649735e-02 6.30072287e-01]\n",
      " [9.85488080e-02 7.54030682e-01 7.46013804e-02 1.23144330e-01\n",
      "  2.63873023e-01 7.00882097e-01 8.20463227e-01 7.38789537e-01\n",
      "  4.32486662e-01 9.53040344e-01]\n",
      " [9.80555888e-01 2.06152401e-02 7.70601098e-01 8.61894849e-01\n",
      "  2.22217206e-01 8.32685193e-01 9.59846414e-01 3.12032369e-01\n",
      "  9.55316363e-01 8.53230246e-01]\n",
      " [7.54325864e-01 9.45836305e-01 5.87163904e-01 6.78240099e-01\n",
      "  3.04402725e-01 3.86907850e-02 8.95966283e-01 6.11047030e-01\n",
      "  6.91149536e-01 5.29131999e-01]\n",
      " [3.85736603e-01 5.03401764e-01 3.96269595e-01 1.00548084e-01\n",
      "  7.08155744e-01 7.16969343e-01 6.05432134e-01 2.33119796e-01\n",
      "  6.17799258e-01 9.02646276e-01]\n",
      " [9.00706755e-01 7.11758899e-04 1.38077194e-01 6.94610859e-01\n",
      "  9.55815340e-01 8.18566380e-01 4.89527815e-01 9.04799479e-01\n",
      "  5.14621873e-01 4.57210917e-01]\n",
      " [9.89046715e-02 1.53761706e-01 8.16213156e-01 4.96886812e-01\n",
      "  8.83947824e-01 7.03123958e-01 5.70472017e-01 6.23538048e-01\n",
      "  2.24681775e-01 3.82172759e-01]]\n"
     ]
    }
   ],
   "source": [
    "#3.2: create a random 10x10 array named A\n",
    "A = np.random.rand(10, 10)\n",
    "print(A)"
   ]
  },
  {
   "cell_type": "code",
   "execution_count": 9,
   "metadata": {
    "colab": {
     "base_uri": "https://localhost:8080/",
     "height": 187
    },
    "colab_type": "code",
    "executionInfo": {
     "elapsed": 789,
     "status": "ok",
     "timestamp": 1587281222020,
     "user": {
      "displayName": "",
      "photoUrl": "",
      "userId": ""
     },
     "user_tz": -120
    },
    "id": "kExGPhnbR2B9",
    "outputId": "1a6ef51d-b0a0-4aba-d038-51f3bfea8385"
   },
   "outputs": [
    {
     "data": {
      "text/plain": [
       "array([[6.53470851e-01, 9.12972480e-01, 3.66695937e-01, 2.50726523e-01,\n",
       "        1.79728600e-01, 9.14111205e-01, 4.16726360e-01, 6.75506219e-02,\n",
       "        9.66339233e-01, 7.13083393e-01],\n",
       "       [1.08149646e-01, 2.28919659e-02, 1.97940254e-01, 7.81837320e-01,\n",
       "        6.86993419e-01, 2.91541110e-01, 5.14836263e-01, 5.33396933e-02,\n",
       "        2.20760056e-01, 3.06117881e-01],\n",
       "       [9.85488080e-02, 7.54030682e-01, 7.46013804e-02, 1.23144330e-01,\n",
       "        2.63873023e-01, 7.00882097e-01, 8.20463227e-01, 7.38789537e-01,\n",
       "        4.32486662e-01, 9.53040344e-01],\n",
       "       [7.54325864e-01, 9.45836305e-01, 5.87163904e-01, 6.78240099e-01,\n",
       "        3.04402725e-01, 3.86907850e-02, 8.95966283e-01, 6.11047030e-01,\n",
       "        6.91149536e-01, 5.29131999e-01],\n",
       "       [9.00706755e-01, 7.11758899e-04, 1.38077194e-01, 6.94610859e-01,\n",
       "        9.55815340e-01, 8.18566380e-01, 4.89527815e-01, 9.04799479e-01,\n",
       "        5.14621873e-01, 4.57210917e-01]])"
      ]
     },
     "execution_count": 9,
     "metadata": {},
     "output_type": "execute_result"
    }
   ],
   "source": [
    "#3.3: return only the odd rows of A\n",
    "A[::2,:]"
   ]
  },
  {
   "cell_type": "code",
   "execution_count": 11,
   "metadata": {
    "colab": {
     "base_uri": "https://localhost:8080/",
     "height": 527
    },
    "colab_type": "code",
    "executionInfo": {
     "elapsed": 969,
     "status": "ok",
     "timestamp": 1587282728987,
     "user": {
      "displayName": "",
      "photoUrl": "",
      "userId": ""
     },
     "user_tz": -120
    },
    "id": "vC58fd1TR2CA",
    "outputId": "9bf9d282-5a12-418a-cd85-1139752b1010"
   },
   "outputs": [
    {
     "data": {
      "text/plain": [
       "array([[3.94629765, 2.59867879, 1.39992263, 2.47600797, 2.98848973,\n",
       "        3.91202296, 3.29174296, 3.1735583 , 2.82252092, 2.19999144],\n",
       "       [2.59867879, 3.25658567, 1.73915366, 2.43343668, 2.3550199 ,\n",
       "        3.54669591, 2.75623968, 2.82592233, 3.19521863, 2.76573493],\n",
       "       [1.39992263, 1.73915366, 1.62997116, 1.21068656, 1.37360919,\n",
       "        2.31122914, 1.77855552, 1.64264998, 2.11697252, 1.87006807],\n",
       "       [2.47600797, 2.43343668, 1.21068656, 2.7966629 , 2.10250714,\n",
       "        3.20081024, 2.22799434, 2.4759148 , 2.61447256, 2.437364  ],\n",
       "       [2.98848973, 2.3550199 , 1.37360919, 2.10250714, 3.47416921,\n",
       "        3.16242315, 3.01203315, 2.94532214, 2.73947431, 2.36393701],\n",
       "       [3.91202296, 3.54669591, 2.31122914, 3.20081024, 3.16242315,\n",
       "        5.70064929, 4.05845324, 3.54923748, 4.11622979, 3.22215276],\n",
       "       [3.29174296, 2.75623968, 1.77855552, 2.22799434, 3.01203315,\n",
       "        4.05845324, 4.29634531, 2.90078699, 3.14399131, 2.58222307],\n",
       "       [3.1735583 , 2.82592233, 1.64264998, 2.4759148 , 2.94532214,\n",
       "        3.54923748, 2.90078699, 3.2022143 , 2.97403986, 2.5935638 ],\n",
       "       [2.82252092, 3.19521863, 2.11697252, 2.61447256, 2.73947431,\n",
       "        4.11622979, 3.14399131, 2.97403986, 4.42863368, 3.10128   ],\n",
       "       [2.19999144, 2.76573493, 1.87006807, 2.437364  , 2.36393701,\n",
       "        3.22215276, 2.58222307, 2.5935638 , 3.10128   , 3.13304821]])"
      ]
     },
     "execution_count": 11,
     "metadata": {},
     "output_type": "execute_result"
    }
   ],
   "source": [
    "#3.4: perform a matrix multiplication of A with it's transposed\n",
    "A.dot(A.T)"
   ]
  },
  {
   "cell_type": "code",
   "execution_count": 16,
   "metadata": {
    "colab": {
     "base_uri": "https://localhost:8080/",
     "height": 697
    },
    "colab_type": "code",
    "executionInfo": {
     "elapsed": 795,
     "status": "ok",
     "timestamp": 1587282810402,
     "user": {
      "displayName": "",
      "photoUrl": "",
      "userId": ""
     },
     "user_tz": -120
    },
    "id": "sCzaKJaiR2CB",
    "outputId": "1e05687e-36f2-41b8-f8ab-a58b7945eae2"
   },
   "outputs": [
    {
     "data": {
      "text/plain": [
       "array([[ True,  True,  True,  True,  True,  True,  True,  True,  True,\n",
       "         True],\n",
       "       [ True,  True,  True,  True,  True,  True,  True,  True,  True,\n",
       "         True],\n",
       "       [ True,  True,  True,  True,  True,  True,  True,  True,  True,\n",
       "         True],\n",
       "       [ True,  True,  True,  True,  True,  True,  True,  True,  True,\n",
       "         True],\n",
       "       [ True,  True,  True,  True,  True,  True,  True,  True,  True,\n",
       "         True],\n",
       "       [ True,  True,  True,  True,  True,  True,  True,  True,  True,\n",
       "         True],\n",
       "       [ True,  True,  True,  True,  True,  True,  True,  True,  True,\n",
       "         True],\n",
       "       [ True,  True,  True,  True,  True,  True,  True,  True,  True,\n",
       "         True],\n",
       "       [ True,  True,  True,  True,  True,  True,  True,  True,  True,\n",
       "         True],\n",
       "       [ True,  True,  True,  True,  True,  True,  True,  True,  True,\n",
       "         True]])"
      ]
     },
     "execution_count": 16,
     "metadata": {},
     "output_type": "execute_result"
    }
   ],
   "source": [
    "#3.5: compute the matrix inverse of A\n",
    "A_inv = np.linalg.inv(A)\n",
    "np.isclose(A.dot(A_inv), np.identity(10))"
   ]
  },
  {
   "cell_type": "code",
   "execution_count": 18,
   "metadata": {
    "colab": {},
    "colab_type": "code",
    "id": "OulEYfgIR2CD"
   },
   "outputs": [
    {
     "data": {
      "text/plain": [
       "array([[0.32673543, 0.45648624, 0.36669594, 0.25072652, 0.1797286 ,\n",
       "        0.4570556 , 0.41672636, 0.06755062, 0.48316962, 0.3565417 ],\n",
       "       [0.41909854, 0.08189718, 0.3539629 , 0.43809259, 0.41564433,\n",
       "        0.39604612, 0.14678588, 0.26416643, 0.32766035, 0.44808776],\n",
       "       [0.10814965, 0.02289197, 0.19794025, 0.39091866, 0.34349671,\n",
       "        0.29154111, 0.25741813, 0.05333969, 0.22076006, 0.30611788],\n",
       "       [0.33479933, 0.18659115, 0.44232978, 0.07329425, 0.38962717,\n",
       "        0.4443393 , 0.30044153, 0.30698145, 0.04936497, 0.31503614],\n",
       "       [0.09854881, 0.37701534, 0.07460138, 0.12314433, 0.26387302,\n",
       "        0.35044105, 0.41023161, 0.36939477, 0.43248666, 0.47652017],\n",
       "       [0.49027794, 0.02061524, 0.38530055, 0.43094742, 0.22221721,\n",
       "        0.4163426 , 0.47992321, 0.31203237, 0.47765818, 0.42661512],\n",
       "       [0.37716293, 0.47291815, 0.29358195, 0.33912005, 0.30440273,\n",
       "        0.03869078, 0.44798314, 0.30552351, 0.34557477, 0.264566  ],\n",
       "       [0.3857366 , 0.25170088, 0.3962696 , 0.10054808, 0.35407787,\n",
       "        0.35848467, 0.30271607, 0.2331198 , 0.30889963, 0.45132314],\n",
       "       [0.45035338, 0.00071176, 0.13807719, 0.34730543, 0.47790767,\n",
       "        0.40928319, 0.48952781, 0.45239974, 0.25731094, 0.45721092],\n",
       "       [0.09890467, 0.15376171, 0.40810658, 0.49688681, 0.44197391,\n",
       "        0.35156198, 0.28523601, 0.31176902, 0.22468178, 0.38217276]])"
      ]
     },
     "execution_count": 18,
     "metadata": {},
     "output_type": "execute_result"
    }
   ],
   "source": [
    "#3.6: divide all entries of A which are lager than 0.5 by 2 (hint: use where() )\n",
    "indices = np.where((A>0.5))\n",
    "A[indices] = A[indices]/2\n",
    "A"
   ]
  }
 ],
 "metadata": {
  "colab": {
   "name": "Copy of 2_a_Numpy.ipynb",
   "provenance": [
    {
     "file_id": "https://github.com/playergod1/DataScienceSS20/blob/master/Exercises/2_a_Numpy.ipynb",
     "timestamp": 1587282830223
    }
   ]
  },
  "kernelspec": {
   "display_name": "Python 3",
   "language": "python",
   "name": "python3"
  },
  "language_info": {
   "codemirror_mode": {
    "name": "ipython",
    "version": 3
   },
   "file_extension": ".py",
   "mimetype": "text/x-python",
   "name": "python",
   "nbconvert_exporter": "python",
   "pygments_lexer": "ipython3",
   "version": "3.7.6"
  }
 },
 "nbformat": 4,
 "nbformat_minor": 4
}
